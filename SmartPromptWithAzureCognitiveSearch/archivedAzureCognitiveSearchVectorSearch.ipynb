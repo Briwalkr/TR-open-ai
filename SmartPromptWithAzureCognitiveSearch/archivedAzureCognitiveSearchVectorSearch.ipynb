{
 "cells": [
  {
   "cell_type": "markdown",
   "metadata": {
    "nteract": {
     "transient": {
      "deleting": false
     }
    }
   },
   "source": [
    "# Azure Cognitive Search Vector Search\n",
    "\n",
    "Use Azure Cognitive Search to retrieve relevant content to build effective prompt for Azure Open AI. The example below uses LangChain modules to perform the task.\n",
    "\n",
    "## Setup\n",
    "#### Follow [README](https://github.com/tirtho/open-ai/blob/main/README.md) and perform setup before running the notebooks\n",
    "\n",
    "#### Reference :\n",
    "- [Azure Open AI](https://learn.microsoft.com/en-us/azure/cognitive-services/openai/overview)\n",
    "- [Azure Cognitive Search](https://learn.microsoft.com/en-us/azure/search/search-what-is-azure-search)\n",
    "- [Azure Cognitive Search as vector store](https://github.com/hwchase17/langchain/pull/5146/files/ef78d38fd12a6edcf6b04ab06493305d0d601ac3..f9b67d653854ef08e3dc56563964bb86deba9d8e)\n",
    "\n",
    "#### Load the API key and relevant Python libaries."
   ]
  },
  {
   "cell_type": "markdown",
   "metadata": {},
   "source": [
    "#### Install the python libraries\n",
    "- > pip install openai num2words matplotlib plotly scipy scikit-learn pandas tiktoken \n",
    "\n",
    "- > pip install --index-url=https://pkgs.dev.azure.com/azure-sdk/public/_packaging/azure-sdk-for-python/pypi/simple/ azure-search-documents==11.4.0a20230509004\n",
    "\n"
   ]
  },
  {
   "cell_type": "markdown",
   "metadata": {},
   "source": [
    "#### Load the API keys"
   ]
  },
  {
   "cell_type": "code",
   "execution_count": 1,
   "metadata": {
    "gather": {
     "logged": 1685732595135
    },
    "jupyter": {
     "outputs_hidden": false,
     "source_hidden": false
    },
    "nteract": {
     "transient": {
      "deleting": false
     }
    }
   },
   "outputs": [
    {
     "name": "stdout",
     "output_type": "stream",
     "text": [
      "Got Azure OpenAI Credentials from Azure Key Vault with Azure CLI Auth\n"
     ]
    }
   ],
   "source": [
    "import openai\n",
    "import sys\n",
    "\n",
    "from azure_openai_setup import set_openai_config, get_openai_global_config_parameters\n",
    "\n",
    "set_openai_config()\n",
    "\n",
    "theOpenAIParams, modelName, modelDeploymentName = get_openai_global_config_parameters()"
   ]
  },
  {
   "cell_type": "markdown",
   "metadata": {},
   "source": [
    "#### Get the Azure Cognitive Search keys from Azure Key Vault\n",
    "Note: You need the Search Admin Key"
   ]
  },
  {
   "cell_type": "code",
   "execution_count": 2,
   "metadata": {},
   "outputs": [
    {
     "name": "stdout",
     "output_type": "stream",
     "text": [
      "Getting Azure Cognitive Search Credentials from Azure Key Vault with Azure CLI Auth\n"
     ]
    }
   ],
   "source": [
    "from azure_cognitive_search_setup import set_cognitive_search_config, create_cognitive_search_index\n",
    "\n",
    "azureSearchAdminKey, azureSearchEndpoint, azureSearchIndexName = set_cognitive_search_config()"
   ]
  },
  {
   "cell_type": "markdown",
   "metadata": {},
   "source": [
    "#### Create the Search Index in Azure Cognitive Search\n",
    "<font color=red>Note: This will delete your existing index</font>"
   ]
  },
  {
   "cell_type": "code",
   "execution_count": 3,
   "metadata": {},
   "outputs": [
    {
     "name": "stderr",
     "output_type": "stream",
     "text": [
      "retrievable is not a known attribute of class <class 'azure.search.documents.indexes.models._index.SearchField'> and will be ignored\n"
     ]
    },
    {
     "name": "stdout",
     "output_type": "stream",
     "text": [
      " tr-demo-billsum-index created\n"
     ]
    }
   ],
   "source": [
    "from azure.core.credentials import AzureKeyCredential  \n",
    "from azure.search.documents import SearchClient  \n",
    "from azure.search.documents.indexes import SearchIndexClient  \n",
    "\n",
    "cog_search_key_credential = AzureKeyCredential(azureSearchAdminKey)\n",
    "cog_search_index_client = SearchIndexClient(\n",
    "                                endpoint=azureSearchEndpoint,\n",
    "                                credential=cog_search_key_credential  \n",
    "                            )\n",
    "\n",
    "search_index = create_cognitive_search_index(\n",
    "                    index_name=azureSearchIndexName,\n",
    "                    search_index_client=cog_search_index_client\n",
    "               )\n",
    "print(f' {search_index.name} created')    "
   ]
  },
  {
   "cell_type": "markdown",
   "metadata": {},
   "source": [
    "### Load the BillSum Dataset\n",
    "BillSum is a dataset of United States Congressional and California state bills. For illustration purposes, we'll look only at the US bills. The corpus consists of bills from the 103rd-115th (1993-2018) sessions of Congress. The data was split into 18,949 train bills and 3,269 test bills. The BillSum corpus focuses on mid-length legislation from 5,000 to 20,000 characters in length. More information on the project and the original academic paper where this dataset is derived from can be found on the BillSum project's GitHub repository.\n",
    "\n",
    "We saved it in ../data/bill_sum_data.csv"
   ]
  },
  {
   "cell_type": "markdown",
   "metadata": {},
   "source": [
    "#### Load data and create vector embeddings and store in a json file"
   ]
  },
  {
   "cell_type": "code",
   "execution_count": 4,
   "metadata": {},
   "outputs": [],
   "source": [
    "from num2words import num2words\n",
    "import os\n",
    "import pandas as pd\n",
    "import numpy as np\n",
    "import json\n",
    "import random, string, uuid"
   ]
  },
  {
   "cell_type": "code",
   "execution_count": 5,
   "metadata": {},
   "outputs": [
    {
     "name": "stdout",
     "output_type": "stream",
     "text": [
      "                                     id     bill_id  \\\n",
      "0  2551fd47-a404-47c0-bba5-ee70d31398fd    110_hr37   \n",
      "1  c68518d1-f397-4d21-aca2-36999b015979  112_hr2873   \n",
      "2  5925d206-bb52-43c3-bab4-a84446eebe2e   109_s2408   \n",
      "\n",
      "                                               title  \\\n",
      "0  To amend the Internal Revenue Code of 1986 to ...   \n",
      "1  To amend the Internal Revenue Code of 1986 to ...   \n",
      "2  A bill to require the Director of National Int...   \n",
      "\n",
      "                                             content  \\\n",
      "0  National Science Education Tax Incentive for B...   \n",
      "1  Small Business Expansion and Hiring Act of 201...   \n",
      "2  Requires the Director of National Intelligence...   \n",
      "\n",
      "                   metadata                                     content_vector  \n",
      "0   {\"lengthOfSummary\":321}  [-0.023282863199710846, -0.009497825056314468,...  \n",
      "1  {\"lengthOfSummary\":1424}  [-0.02702074497938156, -0.01974799670279026, -...  \n",
      "2   {\"lengthOfSummary\":463}  [-0.036936987191438675, -0.00575405266135931, ...  \n"
     ]
    }
   ],
   "source": [
    "from azure_openai_setup import get_embeddings_from_text\n",
    "\n",
    "# Read from the csv file\n",
    "df=pd.read_csv(os.path.join(os.getcwd(),'./data/bill_sum_data_curated.csv')) # This assumes that you have placed the bill_sum_data.csv in the same directory you are running Jupyter Notebooks\n",
    "# Add the vector embeddings for each row using AzureOpenAI Embeddings\n",
    "df['content_vector'] = df['summary'].apply(get_embeddings_from_text)\n",
    "\n",
    "# Add an Id column to the dataframe with random string. This is to match the id column in\n",
    "# the index searchFields in the helper functions for Azure Cognitive Search\n",
    "df['id'] = [f'{uuid.uuid4()}' for _ in range(len(df.index))]\n",
    "\n",
    "def form_metadata(row):\n",
    "    return '{\"lengthOfSummary\":' + str(row) + '}'  \n",
    "# Create metadata from sum_len\n",
    "# Just to create some data for the metadata column\n",
    "df['metadata'] = df['sum_len'].apply(form_metadata)\n",
    "\n",
    "\n",
    "# Selecting the relevant columns\n",
    "df_bills = df[['id', 'bill_id', 'title', 'summary', 'metadata', 'content_vector']]\n",
    "# Renaming the 'summary' column to 'content', to match what is in the \n",
    "# Index schema in Azure Cognitive Search as defined in the search fields\n",
    "# in the helper function\n",
    "df_bills = df_bills.rename(columns={'summary': 'content'})\n",
    "\n",
    "print(df_bills.loc[0:2, ['id', 'bill_id', 'title', 'content', 'metadata', 'content_vector']])\n",
    "# Save the data with the vectors in a file\n",
    "# You can take these and store in any other persistent store\n",
    "df_bills.to_json(\n",
    "    path_or_buf='./data/bill_sum_data_curated_with_vectors.json', \n",
    "    orient='records'\n",
    ")"
   ]
  },
  {
   "cell_type": "markdown",
   "metadata": {},
   "source": [
    "#### Load data with vector embeddings from the json files to Azure Cognitive Search Index"
   ]
  },
  {
   "cell_type": "code",
   "execution_count": 6,
   "metadata": {},
   "outputs": [
    {
     "name": "stdout",
     "output_type": "stream",
     "text": [
      "Stored 20 documents with embeddings in Azure Cogntive Search\n"
     ]
    }
   ],
   "source": [
    "with open('./data/bill_sum_data_curated_with_vectors.json', 'r') as file:\n",
    "    documents = json.load(file)\n",
    "search_client = SearchClient(\n",
    "                    endpoint=azureSearchEndpoint,\n",
    "                    index_name=azureSearchIndexName,\n",
    "                    credential=cog_search_key_credential\n",
    "                )\n",
    "\n",
    "results = search_client.upload_documents(documents)\n",
    "print(\"Stored %s documents with embeddings in Azure Cogntive Search\" %(len(documents)))"
   ]
  },
  {
   "cell_type": "markdown",
   "metadata": {},
   "source": [
    "## Different Search functions\n",
    "\n",
    "Reference:\\\n",
    "[Azure Cognitive Search Vector Search with Azure OpenAI](https://github.com/Azure/cognitive-search-vector-pr/blob/main/demo-python/code/azure-search-vector-python-sample.ipynb)"
   ]
  },
  {
   "cell_type": "code",
   "execution_count": 7,
   "metadata": {},
   "outputs": [],
   "source": [
    "testQuery = \"federal agency green energy bill\""
   ]
  },
  {
   "cell_type": "markdown",
   "metadata": {},
   "source": [
    "#### Vector Similarity Search"
   ]
  },
  {
   "cell_type": "code",
   "execution_count": 8,
   "metadata": {},
   "outputs": [
    {
     "ename": "SerializationError",
     "evalue": "(', DeserializationError: (\", AttributeError: \\'float\\' object has no attribute \\'lower\\'\", \\'Unable to deserialize to object: type\\', AttributeError(\"\\'float\\' object has no attribute \\'lower\\'\"))', 'Unable to build a model: (\", AttributeError: \\'float\\' object has no attribute \\'lower\\'\", \\'Unable to deserialize to object: type\\', AttributeError(\"\\'float\\' object has no attribute \\'lower\\'\"))', DeserializationError(\", AttributeError: 'float' object has no attribute 'lower'\", 'Unable to deserialize to object: type', AttributeError(\"'float' object has no attribute 'lower'\")))",
     "output_type": "error",
     "traceback": [
      "\u001b[1;31m---------------------------------------------------------------------------\u001b[0m",
      "\u001b[1;31mAttributeError\u001b[0m                            Traceback (most recent call last)",
      "File \u001b[1;32m~\\AppData\\Local\\Programs\\Python\\Python311\\Lib\\site-packages\\azure\\search\\documents\\_generated\\_serialization.py:1459\u001b[0m, in \u001b[0;36mDeserializer._deserialize\u001b[1;34m(self, target_obj, data)\u001b[0m\n\u001b[0;32m   1458\u001b[0m \u001b[38;5;28;01mfor\u001b[39;00m key_extractor \u001b[38;5;129;01min\u001b[39;00m \u001b[38;5;28mself\u001b[39m\u001b[38;5;241m.\u001b[39mkey_extractors:\n\u001b[1;32m-> 1459\u001b[0m     found_value \u001b[38;5;241m=\u001b[39m \u001b[43mkey_extractor\u001b[49m\u001b[43m(\u001b[49m\u001b[43mattr\u001b[49m\u001b[43m,\u001b[49m\u001b[43m \u001b[49m\u001b[43mattr_desc\u001b[49m\u001b[43m,\u001b[49m\u001b[43m \u001b[49m\u001b[43mdata\u001b[49m\u001b[43m)\u001b[49m\n\u001b[0;32m   1460\u001b[0m     \u001b[38;5;28;01mif\u001b[39;00m found_value \u001b[38;5;129;01mis\u001b[39;00m \u001b[38;5;129;01mnot\u001b[39;00m \u001b[38;5;28;01mNone\u001b[39;00m:\n",
      "File \u001b[1;32m~\\AppData\\Local\\Programs\\Python\\Python311\\Lib\\site-packages\\azure\\search\\documents\\_generated\\_serialization.py:1228\u001b[0m, in \u001b[0;36mrest_key_case_insensitive_extractor\u001b[1;34m(attr, attr_desc, data)\u001b[0m\n\u001b[0;32m   1227\u001b[0m \u001b[38;5;28;01mif\u001b[39;00m working_data:\n\u001b[1;32m-> 1228\u001b[0m     \u001b[38;5;28;01mreturn\u001b[39;00m \u001b[43mattribute_key_case_insensitive_extractor\u001b[49m\u001b[43m(\u001b[49m\u001b[43mkey\u001b[49m\u001b[43m,\u001b[49m\u001b[43m \u001b[49m\u001b[38;5;28;43;01mNone\u001b[39;49;00m\u001b[43m,\u001b[49m\u001b[43m \u001b[49m\u001b[43mworking_data\u001b[49m\u001b[43m)\u001b[49m\n",
      "File \u001b[1;32m~\\AppData\\Local\\Programs\\Python\\Python311\\Lib\\site-packages\\azure\\search\\documents\\_generated\\_serialization.py:1256\u001b[0m, in \u001b[0;36mattribute_key_case_insensitive_extractor\u001b[1;34m(attr, _, data)\u001b[0m\n\u001b[0;32m   1255\u001b[0m \u001b[38;5;28;01mfor\u001b[39;00m key \u001b[38;5;129;01min\u001b[39;00m data:\n\u001b[1;32m-> 1256\u001b[0m     \u001b[38;5;28;01mif\u001b[39;00m lower_attr \u001b[38;5;241m==\u001b[39m \u001b[43mkey\u001b[49m\u001b[38;5;241;43m.\u001b[39;49m\u001b[43mlower\u001b[49m():\n\u001b[0;32m   1257\u001b[0m         found_key \u001b[38;5;241m=\u001b[39m key\n",
      "\u001b[1;31mAttributeError\u001b[0m: 'float' object has no attribute 'lower'",
      "\nDuring handling of the above exception, another exception occurred:\n",
      "\u001b[1;31mDeserializationError\u001b[0m                      Traceback (most recent call last)",
      "File \u001b[1;32m~\\AppData\\Local\\Programs\\Python\\Python311\\Lib\\site-packages\\azure\\search\\documents\\_generated\\_serialization.py:710\u001b[0m, in \u001b[0;36mSerializer.body\u001b[1;34m(self, data, data_type, **kwargs)\u001b[0m\n\u001b[0;32m    705\u001b[0m         deserializer\u001b[38;5;241m.\u001b[39mkey_extractors \u001b[38;5;241m=\u001b[39m [\n\u001b[0;32m    706\u001b[0m             rest_key_case_insensitive_extractor,\n\u001b[0;32m    707\u001b[0m             attribute_key_case_insensitive_extractor,\n\u001b[0;32m    708\u001b[0m             last_rest_key_case_insensitive_extractor,\n\u001b[0;32m    709\u001b[0m         ]\n\u001b[1;32m--> 710\u001b[0m     data \u001b[38;5;241m=\u001b[39m \u001b[43mdeserializer\u001b[49m\u001b[38;5;241;43m.\u001b[39;49m\u001b[43m_deserialize\u001b[49m\u001b[43m(\u001b[49m\u001b[43mdata_type\u001b[49m\u001b[43m,\u001b[49m\u001b[43m \u001b[49m\u001b[43mdata\u001b[49m\u001b[43m)\u001b[49m\n\u001b[0;32m    711\u001b[0m \u001b[38;5;28;01mexcept\u001b[39;00m DeserializationError \u001b[38;5;28;01mas\u001b[39;00m err:\n",
      "File \u001b[1;32m~\\AppData\\Local\\Programs\\Python\\Python311\\Lib\\site-packages\\azure\\search\\documents\\_generated\\_serialization.py:1430\u001b[0m, in \u001b[0;36mDeserializer._deserialize\u001b[1;34m(self, target_obj, data)\u001b[0m\n\u001b[0;32m   1429\u001b[0m         \u001b[38;5;28;01mcontinue\u001b[39;00m\n\u001b[1;32m-> 1430\u001b[0m     \u001b[38;5;28msetattr\u001b[39m(data, attr, \u001b[38;5;28;43mself\u001b[39;49m\u001b[38;5;241;43m.\u001b[39;49m\u001b[43m_deserialize\u001b[49m\u001b[43m(\u001b[49m\u001b[43mlocal_type\u001b[49m\u001b[43m,\u001b[49m\u001b[43m \u001b[49m\u001b[43mvalue\u001b[49m\u001b[43m)\u001b[49m)\n\u001b[0;32m   1431\u001b[0m \u001b[38;5;28;01mreturn\u001b[39;00m data\n",
      "File \u001b[1;32m~\\AppData\\Local\\Programs\\Python\\Python311\\Lib\\site-packages\\azure\\search\\documents\\_generated\\_serialization.py:1474\u001b[0m, in \u001b[0;36mDeserializer._deserialize\u001b[1;34m(self, target_obj, data)\u001b[0m\n\u001b[0;32m   1473\u001b[0m     msg \u001b[38;5;241m=\u001b[39m \u001b[38;5;124m\"\u001b[39m\u001b[38;5;124mUnable to deserialize to object: \u001b[39m\u001b[38;5;124m\"\u001b[39m \u001b[38;5;241m+\u001b[39m class_name  \u001b[38;5;66;03m# type: ignore\u001b[39;00m\n\u001b[1;32m-> 1474\u001b[0m     \u001b[43mraise_with_traceback\u001b[49m\u001b[43m(\u001b[49m\u001b[43mDeserializationError\u001b[49m\u001b[43m,\u001b[49m\u001b[43m \u001b[49m\u001b[43mmsg\u001b[49m\u001b[43m,\u001b[49m\u001b[43m \u001b[49m\u001b[43merr\u001b[49m\u001b[43m)\u001b[49m\n\u001b[0;32m   1475\u001b[0m \u001b[38;5;28;01melse\u001b[39;00m:\n",
      "File \u001b[1;32m~\\AppData\\Local\\Programs\\Python\\Python311\\Lib\\site-packages\\azure\\core\\exceptions.py:77\u001b[0m, in \u001b[0;36mraise_with_traceback\u001b[1;34m(exception, *args, **kwargs)\u001b[0m\n\u001b[0;32m     76\u001b[0m \u001b[38;5;28;01mtry\u001b[39;00m:\n\u001b[1;32m---> 77\u001b[0m     \u001b[38;5;28;01mraise\u001b[39;00m error\u001b[38;5;241m.\u001b[39mwith_traceback(exc_traceback)\n\u001b[0;32m     78\u001b[0m \u001b[38;5;28;01mexcept\u001b[39;00m \u001b[38;5;167;01mAttributeError\u001b[39;00m:\n",
      "File \u001b[1;32m~\\AppData\\Local\\Programs\\Python\\Python311\\Lib\\site-packages\\azure\\search\\documents\\_generated\\_serialization.py:1459\u001b[0m, in \u001b[0;36mDeserializer._deserialize\u001b[1;34m(self, target_obj, data)\u001b[0m\n\u001b[0;32m   1458\u001b[0m \u001b[38;5;28;01mfor\u001b[39;00m key_extractor \u001b[38;5;129;01min\u001b[39;00m \u001b[38;5;28mself\u001b[39m\u001b[38;5;241m.\u001b[39mkey_extractors:\n\u001b[1;32m-> 1459\u001b[0m     found_value \u001b[38;5;241m=\u001b[39m \u001b[43mkey_extractor\u001b[49m\u001b[43m(\u001b[49m\u001b[43mattr\u001b[49m\u001b[43m,\u001b[49m\u001b[43m \u001b[49m\u001b[43mattr_desc\u001b[49m\u001b[43m,\u001b[49m\u001b[43m \u001b[49m\u001b[43mdata\u001b[49m\u001b[43m)\u001b[49m\n\u001b[0;32m   1460\u001b[0m     \u001b[38;5;28;01mif\u001b[39;00m found_value \u001b[38;5;129;01mis\u001b[39;00m \u001b[38;5;129;01mnot\u001b[39;00m \u001b[38;5;28;01mNone\u001b[39;00m:\n",
      "File \u001b[1;32m~\\AppData\\Local\\Programs\\Python\\Python311\\Lib\\site-packages\\azure\\search\\documents\\_generated\\_serialization.py:1228\u001b[0m, in \u001b[0;36mrest_key_case_insensitive_extractor\u001b[1;34m(attr, attr_desc, data)\u001b[0m\n\u001b[0;32m   1227\u001b[0m \u001b[38;5;28;01mif\u001b[39;00m working_data:\n\u001b[1;32m-> 1228\u001b[0m     \u001b[38;5;28;01mreturn\u001b[39;00m \u001b[43mattribute_key_case_insensitive_extractor\u001b[49m\u001b[43m(\u001b[49m\u001b[43mkey\u001b[49m\u001b[43m,\u001b[49m\u001b[43m \u001b[49m\u001b[38;5;28;43;01mNone\u001b[39;49;00m\u001b[43m,\u001b[49m\u001b[43m \u001b[49m\u001b[43mworking_data\u001b[49m\u001b[43m)\u001b[49m\n",
      "File \u001b[1;32m~\\AppData\\Local\\Programs\\Python\\Python311\\Lib\\site-packages\\azure\\search\\documents\\_generated\\_serialization.py:1256\u001b[0m, in \u001b[0;36mattribute_key_case_insensitive_extractor\u001b[1;34m(attr, _, data)\u001b[0m\n\u001b[0;32m   1255\u001b[0m \u001b[38;5;28;01mfor\u001b[39;00m key \u001b[38;5;129;01min\u001b[39;00m data:\n\u001b[1;32m-> 1256\u001b[0m     \u001b[38;5;28;01mif\u001b[39;00m lower_attr \u001b[38;5;241m==\u001b[39m \u001b[43mkey\u001b[49m\u001b[38;5;241;43m.\u001b[39;49m\u001b[43mlower\u001b[49m():\n\u001b[0;32m   1257\u001b[0m         found_key \u001b[38;5;241m=\u001b[39m key\n",
      "\u001b[1;31mDeserializationError\u001b[0m: (\", AttributeError: 'float' object has no attribute 'lower'\", 'Unable to deserialize to object: type', AttributeError(\"'float' object has no attribute 'lower'\"))",
      "\nDuring handling of the above exception, another exception occurred:\n",
      "\u001b[1;31mSerializationError\u001b[0m                        Traceback (most recent call last)",
      "Cell \u001b[1;32mIn[8], line 19\u001b[0m\n\u001b[0;32m      6\u001b[0m search_client \u001b[38;5;241m=\u001b[39m SearchClient(\n\u001b[0;32m      7\u001b[0m                     endpoint\u001b[38;5;241m=\u001b[39mazureSearchEndpoint, \n\u001b[0;32m      8\u001b[0m                     index_name\u001b[38;5;241m=\u001b[39mazureSearchIndexName, \n\u001b[0;32m      9\u001b[0m                     credential\u001b[38;5;241m=\u001b[39mcog_search_key_credential\n\u001b[0;32m     10\u001b[0m                 )\n\u001b[0;32m     11\u001b[0m results \u001b[38;5;241m=\u001b[39m search_client\u001b[38;5;241m.\u001b[39msearch(\n\u001b[0;32m     12\u001b[0m                             search_text\u001b[38;5;241m=\u001b[39m\u001b[38;5;28;01mNone\u001b[39;00m,\n\u001b[0;32m     13\u001b[0m                             vector\u001b[38;5;241m=\u001b[39mget_embeddings_from_text(testQuery),\n\u001b[1;32m   (...)\u001b[0m\n\u001b[0;32m     16\u001b[0m                             select\u001b[38;5;241m=\u001b[39m[\u001b[38;5;124m\"\u001b[39m\u001b[38;5;124mtitle\u001b[39m\u001b[38;5;124m\"\u001b[39m, \u001b[38;5;124m\"\u001b[39m\u001b[38;5;124mcontent\u001b[39m\u001b[38;5;124m\"\u001b[39m, \u001b[38;5;124m\"\u001b[39m\u001b[38;5;124mbill_id\u001b[39m\u001b[38;5;124m\"\u001b[39m]\n\u001b[0;32m     17\u001b[0m                         )\n\u001b[1;32m---> 19\u001b[0m \u001b[38;5;28;01mfor\u001b[39;00m result \u001b[38;5;129;01min\u001b[39;00m results:\n\u001b[0;32m     20\u001b[0m     \u001b[38;5;66;03m#print(f\"Bill Id: {result['bill_id']}\")\u001b[39;00m\n\u001b[0;32m     21\u001b[0m     \u001b[38;5;28mprint\u001b[39m(\u001b[38;5;124mf\u001b[39m\u001b[38;5;124m\"\u001b[39m\u001b[38;5;124mScore: \u001b[39m\u001b[38;5;132;01m{\u001b[39;00mresult[\u001b[38;5;124m'\u001b[39m\u001b[38;5;124m@search.score\u001b[39m\u001b[38;5;124m'\u001b[39m]\u001b[38;5;132;01m}\u001b[39;00m\u001b[38;5;124m\"\u001b[39m)\n\u001b[0;32m     22\u001b[0m     \u001b[38;5;66;03m#print(f\"Title: {result['title']}\")\u001b[39;00m\n\u001b[0;32m     23\u001b[0m     \u001b[38;5;66;03m#print(f\"Summary Length: {result['sum_len']}\")\u001b[39;00m\n\u001b[0;32m     24\u001b[0m     \u001b[38;5;66;03m#print(f\"Content: {result['content']}\")\u001b[39;00m\n\u001b[0;32m     25\u001b[0m     \u001b[38;5;66;03m#result\u001b[39;00m\n",
      "File \u001b[1;32m~\\AppData\\Local\\Programs\\Python\\Python311\\Lib\\site-packages\\azure\\search\\documents\\_paging.py:54\u001b[0m, in \u001b[0;36mSearchItemPaged.__next__\u001b[1;34m(self)\u001b[0m\n\u001b[0;32m     52\u001b[0m     first_iterator \u001b[38;5;241m=\u001b[39m \u001b[38;5;28mself\u001b[39m\u001b[38;5;241m.\u001b[39m_first_iterator_instance()\n\u001b[0;32m     53\u001b[0m     \u001b[38;5;28mself\u001b[39m\u001b[38;5;241m.\u001b[39m_page_iterator \u001b[38;5;241m=\u001b[39m itertools\u001b[38;5;241m.\u001b[39mchain\u001b[38;5;241m.\u001b[39mfrom_iterable(first_iterator)\n\u001b[1;32m---> 54\u001b[0m \u001b[38;5;28;01mreturn\u001b[39;00m \u001b[38;5;28;43mnext\u001b[39;49m\u001b[43m(\u001b[49m\u001b[38;5;28;43mself\u001b[39;49m\u001b[38;5;241;43m.\u001b[39;49m\u001b[43m_page_iterator\u001b[49m\u001b[43m)\u001b[49m\n",
      "File \u001b[1;32m~\\AppData\\Local\\Programs\\Python\\Python311\\Lib\\site-packages\\azure\\core\\paging.py:76\u001b[0m, in \u001b[0;36mPageIterator.__next__\u001b[1;34m(self)\u001b[0m\n\u001b[0;32m     74\u001b[0m     \u001b[38;5;28;01mraise\u001b[39;00m \u001b[38;5;167;01mStopIteration\u001b[39;00m(\u001b[38;5;124m\"\u001b[39m\u001b[38;5;124mEnd of paging\u001b[39m\u001b[38;5;124m\"\u001b[39m)\n\u001b[0;32m     75\u001b[0m \u001b[38;5;28;01mtry\u001b[39;00m:\n\u001b[1;32m---> 76\u001b[0m     \u001b[38;5;28mself\u001b[39m\u001b[38;5;241m.\u001b[39m_response \u001b[38;5;241m=\u001b[39m \u001b[38;5;28;43mself\u001b[39;49m\u001b[38;5;241;43m.\u001b[39;49m\u001b[43m_get_next\u001b[49m\u001b[43m(\u001b[49m\u001b[38;5;28;43mself\u001b[39;49m\u001b[38;5;241;43m.\u001b[39;49m\u001b[43mcontinuation_token\u001b[49m\u001b[43m)\u001b[49m\n\u001b[0;32m     77\u001b[0m \u001b[38;5;28;01mexcept\u001b[39;00m AzureError \u001b[38;5;28;01mas\u001b[39;00m error:\n\u001b[0;32m     78\u001b[0m     \u001b[38;5;28;01mif\u001b[39;00m \u001b[38;5;129;01mnot\u001b[39;00m error\u001b[38;5;241m.\u001b[39mcontinuation_token:\n",
      "File \u001b[1;32m~\\AppData\\Local\\Programs\\Python\\Python311\\Lib\\site-packages\\azure\\search\\documents\\_paging.py:114\u001b[0m, in \u001b[0;36mSearchPageIterator._get_next_cb\u001b[1;34m(self, continuation_token)\u001b[0m\n\u001b[0;32m    112\u001b[0m \u001b[38;5;28;01mdef\u001b[39;00m \u001b[38;5;21m_get_next_cb\u001b[39m(\u001b[38;5;28mself\u001b[39m, continuation_token):\n\u001b[0;32m    113\u001b[0m     \u001b[38;5;28;01mif\u001b[39;00m continuation_token \u001b[38;5;129;01mis\u001b[39;00m \u001b[38;5;28;01mNone\u001b[39;00m:\n\u001b[1;32m--> 114\u001b[0m         \u001b[38;5;28;01mreturn\u001b[39;00m \u001b[38;5;28;43mself\u001b[39;49m\u001b[38;5;241;43m.\u001b[39;49m\u001b[43m_client\u001b[49m\u001b[38;5;241;43m.\u001b[39;49m\u001b[43mdocuments\u001b[49m\u001b[38;5;241;43m.\u001b[39;49m\u001b[43msearch_post\u001b[49m\u001b[43m(\u001b[49m\n\u001b[0;32m    115\u001b[0m \u001b[43m            \u001b[49m\u001b[43msearch_request\u001b[49m\u001b[38;5;241;43m=\u001b[39;49m\u001b[38;5;28;43mself\u001b[39;49m\u001b[38;5;241;43m.\u001b[39;49m\u001b[43m_initial_query\u001b[49m\u001b[38;5;241;43m.\u001b[39;49m\u001b[43mrequest\u001b[49m\u001b[43m,\u001b[49m\u001b[43m \u001b[49m\u001b[38;5;241;43m*\u001b[39;49m\u001b[38;5;241;43m*\u001b[39;49m\u001b[38;5;28;43mself\u001b[39;49m\u001b[38;5;241;43m.\u001b[39;49m\u001b[43m_kwargs\u001b[49m\n\u001b[0;32m    116\u001b[0m \u001b[43m        \u001b[49m\u001b[43m)\u001b[49m\n\u001b[0;32m    118\u001b[0m     _next_link, next_page_request \u001b[38;5;241m=\u001b[39m unpack_continuation_token(continuation_token)\n\u001b[0;32m    120\u001b[0m     \u001b[38;5;28;01mreturn\u001b[39;00m \u001b[38;5;28mself\u001b[39m\u001b[38;5;241m.\u001b[39m_client\u001b[38;5;241m.\u001b[39mdocuments\u001b[38;5;241m.\u001b[39msearch_post(\n\u001b[0;32m    121\u001b[0m         search_request\u001b[38;5;241m=\u001b[39mnext_page_request, \u001b[38;5;241m*\u001b[39m\u001b[38;5;241m*\u001b[39m\u001b[38;5;28mself\u001b[39m\u001b[38;5;241m.\u001b[39m_kwargs\n\u001b[0;32m    122\u001b[0m     )\n",
      "File \u001b[1;32m~\\AppData\\Local\\Programs\\Python\\Python311\\Lib\\site-packages\\azure\\core\\tracing\\decorator.py:76\u001b[0m, in \u001b[0;36mdistributed_trace.<locals>.decorator.<locals>.wrapper_use_tracer\u001b[1;34m(*args, **kwargs)\u001b[0m\n\u001b[0;32m     74\u001b[0m span_impl_type \u001b[38;5;241m=\u001b[39m settings\u001b[38;5;241m.\u001b[39mtracing_implementation()\n\u001b[0;32m     75\u001b[0m \u001b[38;5;28;01mif\u001b[39;00m span_impl_type \u001b[38;5;129;01mis\u001b[39;00m \u001b[38;5;28;01mNone\u001b[39;00m:\n\u001b[1;32m---> 76\u001b[0m     \u001b[38;5;28;01mreturn\u001b[39;00m \u001b[43mfunc\u001b[49m\u001b[43m(\u001b[49m\u001b[38;5;241;43m*\u001b[39;49m\u001b[43margs\u001b[49m\u001b[43m,\u001b[49m\u001b[43m \u001b[49m\u001b[38;5;241;43m*\u001b[39;49m\u001b[38;5;241;43m*\u001b[39;49m\u001b[43mkwargs\u001b[49m\u001b[43m)\u001b[49m\n\u001b[0;32m     78\u001b[0m \u001b[38;5;66;03m# Merge span is parameter is set, but only if no explicit parent are passed\u001b[39;00m\n\u001b[0;32m     79\u001b[0m \u001b[38;5;28;01mif\u001b[39;00m merge_span \u001b[38;5;129;01mand\u001b[39;00m \u001b[38;5;129;01mnot\u001b[39;00m passed_in_parent:\n",
      "File \u001b[1;32m~\\AppData\\Local\\Programs\\Python\\Python311\\Lib\\site-packages\\azure\\search\\documents\\_generated\\operations\\_documents_operations.py:764\u001b[0m, in \u001b[0;36mDocumentsOperations.search_post\u001b[1;34m(self, search_request, request_options, **kwargs)\u001b[0m\n\u001b[0;32m    762\u001b[0m     _content \u001b[38;5;241m=\u001b[39m search_request\n\u001b[0;32m    763\u001b[0m \u001b[38;5;28;01melse\u001b[39;00m:\n\u001b[1;32m--> 764\u001b[0m     _json \u001b[38;5;241m=\u001b[39m \u001b[38;5;28;43mself\u001b[39;49m\u001b[38;5;241;43m.\u001b[39;49m\u001b[43m_serialize\u001b[49m\u001b[38;5;241;43m.\u001b[39;49m\u001b[43mbody\u001b[49m\u001b[43m(\u001b[49m\u001b[43msearch_request\u001b[49m\u001b[43m,\u001b[49m\u001b[43m \u001b[49m\u001b[38;5;124;43m\"\u001b[39;49m\u001b[38;5;124;43mSearchRequest\u001b[39;49m\u001b[38;5;124;43m\"\u001b[39;49m\u001b[43m)\u001b[49m\n\u001b[0;32m    766\u001b[0m request \u001b[38;5;241m=\u001b[39m build_search_post_request(\n\u001b[0;32m    767\u001b[0m     x_ms_client_request_id\u001b[38;5;241m=\u001b[39m_x_ms_client_request_id,\n\u001b[0;32m    768\u001b[0m     api_version\u001b[38;5;241m=\u001b[39mapi_version,\n\u001b[1;32m   (...)\u001b[0m\n\u001b[0;32m    774\u001b[0m     params\u001b[38;5;241m=\u001b[39m_params,\n\u001b[0;32m    775\u001b[0m )\n\u001b[0;32m    776\u001b[0m request \u001b[38;5;241m=\u001b[39m _convert_request(request)\n",
      "File \u001b[1;32m~\\AppData\\Local\\Programs\\Python\\Python311\\Lib\\site-packages\\azure\\search\\documents\\_generated\\_serialization.py:712\u001b[0m, in \u001b[0;36mSerializer.body\u001b[1;34m(self, data, data_type, **kwargs)\u001b[0m\n\u001b[0;32m    710\u001b[0m         data \u001b[38;5;241m=\u001b[39m deserializer\u001b[38;5;241m.\u001b[39m_deserialize(data_type, data)\n\u001b[0;32m    711\u001b[0m     \u001b[38;5;28;01mexcept\u001b[39;00m DeserializationError \u001b[38;5;28;01mas\u001b[39;00m err:\n\u001b[1;32m--> 712\u001b[0m         \u001b[43mraise_with_traceback\u001b[49m\u001b[43m(\u001b[49m\u001b[43mSerializationError\u001b[49m\u001b[43m,\u001b[49m\u001b[43m \u001b[49m\u001b[38;5;124;43m\"\u001b[39;49m\u001b[38;5;124;43mUnable to build a model: \u001b[39;49m\u001b[38;5;124;43m\"\u001b[39;49m\u001b[43m \u001b[49m\u001b[38;5;241;43m+\u001b[39;49m\u001b[43m \u001b[49m\u001b[38;5;28;43mstr\u001b[39;49m\u001b[43m(\u001b[49m\u001b[43merr\u001b[49m\u001b[43m)\u001b[49m\u001b[43m,\u001b[49m\u001b[43m \u001b[49m\u001b[43merr\u001b[49m\u001b[43m)\u001b[49m\n\u001b[0;32m    714\u001b[0m \u001b[38;5;28;01mreturn\u001b[39;00m \u001b[38;5;28mself\u001b[39m\u001b[38;5;241m.\u001b[39m_serialize(data, data_type, \u001b[38;5;241m*\u001b[39m\u001b[38;5;241m*\u001b[39mkwargs)\n",
      "File \u001b[1;32m~\\AppData\\Local\\Programs\\Python\\Python311\\Lib\\site-packages\\azure\\core\\exceptions.py:77\u001b[0m, in \u001b[0;36mraise_with_traceback\u001b[1;34m(exception, *args, **kwargs)\u001b[0m\n\u001b[0;32m     75\u001b[0m error \u001b[38;5;241m=\u001b[39m exception(exc_msg, \u001b[38;5;241m*\u001b[39margs, \u001b[38;5;241m*\u001b[39m\u001b[38;5;241m*\u001b[39mkwargs)\n\u001b[0;32m     76\u001b[0m \u001b[38;5;28;01mtry\u001b[39;00m:\n\u001b[1;32m---> 77\u001b[0m     \u001b[38;5;28;01mraise\u001b[39;00m error\u001b[38;5;241m.\u001b[39mwith_traceback(exc_traceback)\n\u001b[0;32m     78\u001b[0m \u001b[38;5;28;01mexcept\u001b[39;00m \u001b[38;5;167;01mAttributeError\u001b[39;00m:\n\u001b[0;32m     79\u001b[0m     error\u001b[38;5;241m.\u001b[39m__traceback__ \u001b[38;5;241m=\u001b[39m exc_traceback\n",
      "File \u001b[1;32m~\\AppData\\Local\\Programs\\Python\\Python311\\Lib\\site-packages\\azure\\search\\documents\\_generated\\_serialization.py:710\u001b[0m, in \u001b[0;36mSerializer.body\u001b[1;34m(self, data, data_type, **kwargs)\u001b[0m\n\u001b[0;32m    704\u001b[0m     \u001b[38;5;28;01melse\u001b[39;00m:\n\u001b[0;32m    705\u001b[0m         deserializer\u001b[38;5;241m.\u001b[39mkey_extractors \u001b[38;5;241m=\u001b[39m [\n\u001b[0;32m    706\u001b[0m             rest_key_case_insensitive_extractor,\n\u001b[0;32m    707\u001b[0m             attribute_key_case_insensitive_extractor,\n\u001b[0;32m    708\u001b[0m             last_rest_key_case_insensitive_extractor,\n\u001b[0;32m    709\u001b[0m         ]\n\u001b[1;32m--> 710\u001b[0m     data \u001b[38;5;241m=\u001b[39m \u001b[43mdeserializer\u001b[49m\u001b[38;5;241;43m.\u001b[39;49m\u001b[43m_deserialize\u001b[49m\u001b[43m(\u001b[49m\u001b[43mdata_type\u001b[49m\u001b[43m,\u001b[49m\u001b[43m \u001b[49m\u001b[43mdata\u001b[49m\u001b[43m)\u001b[49m\n\u001b[0;32m    711\u001b[0m \u001b[38;5;28;01mexcept\u001b[39;00m DeserializationError \u001b[38;5;28;01mas\u001b[39;00m err:\n\u001b[0;32m    712\u001b[0m     raise_with_traceback(SerializationError, \u001b[38;5;124m\"\u001b[39m\u001b[38;5;124mUnable to build a model: \u001b[39m\u001b[38;5;124m\"\u001b[39m \u001b[38;5;241m+\u001b[39m \u001b[38;5;28mstr\u001b[39m(err), err)\n",
      "File \u001b[1;32m~\\AppData\\Local\\Programs\\Python\\Python311\\Lib\\site-packages\\azure\\search\\documents\\_generated\\_serialization.py:1430\u001b[0m, in \u001b[0;36mDeserializer._deserialize\u001b[1;34m(self, target_obj, data)\u001b[0m\n\u001b[0;32m   1428\u001b[0m         \u001b[38;5;28;01mif\u001b[39;00m internal_data_type \u001b[38;5;129;01mnot\u001b[39;00m \u001b[38;5;129;01min\u001b[39;00m \u001b[38;5;28mself\u001b[39m\u001b[38;5;241m.\u001b[39mdependencies \u001b[38;5;129;01mor\u001b[39;00m \u001b[38;5;28misinstance\u001b[39m(internal_data_type, Enum):\n\u001b[0;32m   1429\u001b[0m             \u001b[38;5;28;01mcontinue\u001b[39;00m\n\u001b[1;32m-> 1430\u001b[0m         \u001b[38;5;28msetattr\u001b[39m(data, attr, \u001b[38;5;28;43mself\u001b[39;49m\u001b[38;5;241;43m.\u001b[39;49m\u001b[43m_deserialize\u001b[49m\u001b[43m(\u001b[49m\u001b[43mlocal_type\u001b[49m\u001b[43m,\u001b[49m\u001b[43m \u001b[49m\u001b[43mvalue\u001b[49m\u001b[43m)\u001b[49m)\n\u001b[0;32m   1431\u001b[0m     \u001b[38;5;28;01mreturn\u001b[39;00m data\n\u001b[0;32m   1432\u001b[0m \u001b[38;5;28;01mexcept\u001b[39;00m \u001b[38;5;167;01mAttributeError\u001b[39;00m:\n",
      "File \u001b[1;32m~\\AppData\\Local\\Programs\\Python\\Python311\\Lib\\site-packages\\azure\\search\\documents\\_generated\\_serialization.py:1474\u001b[0m, in \u001b[0;36mDeserializer._deserialize\u001b[1;34m(self, target_obj, data)\u001b[0m\n\u001b[0;32m   1472\u001b[0m \u001b[38;5;28;01mexcept\u001b[39;00m (\u001b[38;5;167;01mAttributeError\u001b[39;00m, \u001b[38;5;167;01mTypeError\u001b[39;00m, \u001b[38;5;167;01mKeyError\u001b[39;00m) \u001b[38;5;28;01mas\u001b[39;00m err:\n\u001b[0;32m   1473\u001b[0m     msg \u001b[38;5;241m=\u001b[39m \u001b[38;5;124m\"\u001b[39m\u001b[38;5;124mUnable to deserialize to object: \u001b[39m\u001b[38;5;124m\"\u001b[39m \u001b[38;5;241m+\u001b[39m class_name  \u001b[38;5;66;03m# type: ignore\u001b[39;00m\n\u001b[1;32m-> 1474\u001b[0m     \u001b[43mraise_with_traceback\u001b[49m\u001b[43m(\u001b[49m\u001b[43mDeserializationError\u001b[49m\u001b[43m,\u001b[49m\u001b[43m \u001b[49m\u001b[43mmsg\u001b[49m\u001b[43m,\u001b[49m\u001b[43m \u001b[49m\u001b[43merr\u001b[49m\u001b[43m)\u001b[49m\n\u001b[0;32m   1475\u001b[0m \u001b[38;5;28;01melse\u001b[39;00m:\n\u001b[0;32m   1476\u001b[0m     additional_properties \u001b[38;5;241m=\u001b[39m \u001b[38;5;28mself\u001b[39m\u001b[38;5;241m.\u001b[39m_build_additional_properties(attributes, data)\n",
      "File \u001b[1;32m~\\AppData\\Local\\Programs\\Python\\Python311\\Lib\\site-packages\\azure\\core\\exceptions.py:77\u001b[0m, in \u001b[0;36mraise_with_traceback\u001b[1;34m(exception, *args, **kwargs)\u001b[0m\n\u001b[0;32m     75\u001b[0m error \u001b[38;5;241m=\u001b[39m exception(exc_msg, \u001b[38;5;241m*\u001b[39margs, \u001b[38;5;241m*\u001b[39m\u001b[38;5;241m*\u001b[39mkwargs)\n\u001b[0;32m     76\u001b[0m \u001b[38;5;28;01mtry\u001b[39;00m:\n\u001b[1;32m---> 77\u001b[0m     \u001b[38;5;28;01mraise\u001b[39;00m error\u001b[38;5;241m.\u001b[39mwith_traceback(exc_traceback)\n\u001b[0;32m     78\u001b[0m \u001b[38;5;28;01mexcept\u001b[39;00m \u001b[38;5;167;01mAttributeError\u001b[39;00m:\n\u001b[0;32m     79\u001b[0m     error\u001b[38;5;241m.\u001b[39m__traceback__ \u001b[38;5;241m=\u001b[39m exc_traceback\n",
      "File \u001b[1;32m~\\AppData\\Local\\Programs\\Python\\Python311\\Lib\\site-packages\\azure\\search\\documents\\_generated\\_serialization.py:1459\u001b[0m, in \u001b[0;36mDeserializer._deserialize\u001b[1;34m(self, target_obj, data)\u001b[0m\n\u001b[0;32m   1456\u001b[0m     attr_desc[\u001b[38;5;124m\"\u001b[39m\u001b[38;5;124minternalType\u001b[39m\u001b[38;5;124m\"\u001b[39m] \u001b[38;5;241m=\u001b[39m \u001b[38;5;28mself\u001b[39m\u001b[38;5;241m.\u001b[39mdependencies[internal_data_type]\n\u001b[0;32m   1458\u001b[0m \u001b[38;5;28;01mfor\u001b[39;00m key_extractor \u001b[38;5;129;01min\u001b[39;00m \u001b[38;5;28mself\u001b[39m\u001b[38;5;241m.\u001b[39mkey_extractors:\n\u001b[1;32m-> 1459\u001b[0m     found_value \u001b[38;5;241m=\u001b[39m \u001b[43mkey_extractor\u001b[49m\u001b[43m(\u001b[49m\u001b[43mattr\u001b[49m\u001b[43m,\u001b[49m\u001b[43m \u001b[49m\u001b[43mattr_desc\u001b[49m\u001b[43m,\u001b[49m\u001b[43m \u001b[49m\u001b[43mdata\u001b[49m\u001b[43m)\u001b[49m\n\u001b[0;32m   1460\u001b[0m     \u001b[38;5;28;01mif\u001b[39;00m found_value \u001b[38;5;129;01mis\u001b[39;00m \u001b[38;5;129;01mnot\u001b[39;00m \u001b[38;5;28;01mNone\u001b[39;00m:\n\u001b[0;32m   1461\u001b[0m         \u001b[38;5;28;01mif\u001b[39;00m raw_value \u001b[38;5;129;01mis\u001b[39;00m \u001b[38;5;129;01mnot\u001b[39;00m \u001b[38;5;28;01mNone\u001b[39;00m \u001b[38;5;129;01mand\u001b[39;00m raw_value \u001b[38;5;241m!=\u001b[39m found_value:\n",
      "File \u001b[1;32m~\\AppData\\Local\\Programs\\Python\\Python311\\Lib\\site-packages\\azure\\search\\documents\\_generated\\_serialization.py:1228\u001b[0m, in \u001b[0;36mrest_key_case_insensitive_extractor\u001b[1;34m(attr, attr_desc, data)\u001b[0m\n\u001b[0;32m   1225\u001b[0m     key \u001b[38;5;241m=\u001b[39m \u001b[38;5;124m\"\u001b[39m\u001b[38;5;124m.\u001b[39m\u001b[38;5;124m\"\u001b[39m\u001b[38;5;241m.\u001b[39mjoin(dict_keys[\u001b[38;5;241m1\u001b[39m:])\n\u001b[0;32m   1227\u001b[0m \u001b[38;5;28;01mif\u001b[39;00m working_data:\n\u001b[1;32m-> 1228\u001b[0m     \u001b[38;5;28;01mreturn\u001b[39;00m \u001b[43mattribute_key_case_insensitive_extractor\u001b[49m\u001b[43m(\u001b[49m\u001b[43mkey\u001b[49m\u001b[43m,\u001b[49m\u001b[43m \u001b[49m\u001b[38;5;28;43;01mNone\u001b[39;49;00m\u001b[43m,\u001b[49m\u001b[43m \u001b[49m\u001b[43mworking_data\u001b[49m\u001b[43m)\u001b[49m\n",
      "File \u001b[1;32m~\\AppData\\Local\\Programs\\Python\\Python311\\Lib\\site-packages\\azure\\search\\documents\\_generated\\_serialization.py:1256\u001b[0m, in \u001b[0;36mattribute_key_case_insensitive_extractor\u001b[1;34m(attr, _, data)\u001b[0m\n\u001b[0;32m   1254\u001b[0m lower_attr \u001b[38;5;241m=\u001b[39m attr\u001b[38;5;241m.\u001b[39mlower()\n\u001b[0;32m   1255\u001b[0m \u001b[38;5;28;01mfor\u001b[39;00m key \u001b[38;5;129;01min\u001b[39;00m data:\n\u001b[1;32m-> 1256\u001b[0m     \u001b[38;5;28;01mif\u001b[39;00m lower_attr \u001b[38;5;241m==\u001b[39m \u001b[43mkey\u001b[49m\u001b[38;5;241;43m.\u001b[39;49m\u001b[43mlower\u001b[49m():\n\u001b[0;32m   1257\u001b[0m         found_key \u001b[38;5;241m=\u001b[39m key\n\u001b[0;32m   1258\u001b[0m         \u001b[38;5;28;01mbreak\u001b[39;00m\n",
      "\u001b[1;31mSerializationError\u001b[0m: (', DeserializationError: (\", AttributeError: \\'float\\' object has no attribute \\'lower\\'\", \\'Unable to deserialize to object: type\\', AttributeError(\"\\'float\\' object has no attribute \\'lower\\'\"))', 'Unable to build a model: (\", AttributeError: \\'float\\' object has no attribute \\'lower\\'\", \\'Unable to deserialize to object: type\\', AttributeError(\"\\'float\\' object has no attribute \\'lower\\'\"))', DeserializationError(\", AttributeError: 'float' object has no attribute 'lower'\", 'Unable to deserialize to object: type', AttributeError(\"'float' object has no attribute 'lower'\")))"
     ]
    }
   ],
   "source": [
    "from azure.search.documents import SearchClient\n",
    "from azure.core.credentials import AzureKeyCredential  \n",
    "from azure_openai_setup import get_embeddings_from_text\n",
    "\n",
    "cog_search_key_credential = AzureKeyCredential(azureSearchAdminKey) # TODO: use user key\n",
    "search_client = SearchClient(\n",
    "                    endpoint=azureSearchEndpoint, \n",
    "                    index_name=azureSearchIndexName, \n",
    "                    credential=cog_search_key_credential\n",
    "                )\n",
    "results = search_client.search(\n",
    "                            search_text=None,\n",
    "                            vector=get_embeddings_from_text(testQuery),\n",
    "                            top_k=1,\n",
    "                            vector_fields=\"content_vector\",\n",
    "                            select=[\"title\", \"content\", \"bill_id\"]\n",
    "                        )\n",
    "\n",
    "for result in results:\n",
    "    #print(f\"Bill Id: {result['bill_id']}\")\n",
    "    print(f\"Score: {result['@search.score']}\")\n",
    "    #print(f\"Title: {result['title']}\")\n",
    "    #print(f\"Summary Length: {result['sum_len']}\")\n",
    "    #print(f\"Content: {result['content']}\")\n",
    "    #result"
   ]
  },
  {
   "cell_type": "code",
   "execution_count": 17,
   "metadata": {},
   "outputs": [
    {
     "ename": "SerializationError",
     "evalue": "(', DeserializationError: (\", AttributeError: \\'float\\' object has no attribute \\'lower\\'\", \\'Unable to deserialize to object: type\\', AttributeError(\"\\'float\\' object has no attribute \\'lower\\'\"))', 'Unable to build a model: (\", AttributeError: \\'float\\' object has no attribute \\'lower\\'\", \\'Unable to deserialize to object: type\\', AttributeError(\"\\'float\\' object has no attribute \\'lower\\'\"))', DeserializationError(\", AttributeError: 'float' object has no attribute 'lower'\", 'Unable to deserialize to object: type', AttributeError(\"'float' object has no attribute 'lower'\")))",
     "output_type": "error",
     "traceback": [
      "\u001b[1;31m---------------------------------------------------------------------------\u001b[0m",
      "\u001b[1;31mAttributeError\u001b[0m                            Traceback (most recent call last)",
      "File \u001b[1;32m~\\AppData\\Local\\Programs\\Python\\Python311\\Lib\\site-packages\\azure\\search\\documents\\_generated\\_serialization.py:1459\u001b[0m, in \u001b[0;36mDeserializer._deserialize\u001b[1;34m(self, target_obj, data)\u001b[0m\n\u001b[0;32m   1458\u001b[0m \u001b[38;5;28;01mfor\u001b[39;00m key_extractor \u001b[38;5;129;01min\u001b[39;00m \u001b[38;5;28mself\u001b[39m\u001b[38;5;241m.\u001b[39mkey_extractors:\n\u001b[1;32m-> 1459\u001b[0m     found_value \u001b[38;5;241m=\u001b[39m \u001b[43mkey_extractor\u001b[49m\u001b[43m(\u001b[49m\u001b[43mattr\u001b[49m\u001b[43m,\u001b[49m\u001b[43m \u001b[49m\u001b[43mattr_desc\u001b[49m\u001b[43m,\u001b[49m\u001b[43m \u001b[49m\u001b[43mdata\u001b[49m\u001b[43m)\u001b[49m\n\u001b[0;32m   1460\u001b[0m     \u001b[38;5;28;01mif\u001b[39;00m found_value \u001b[38;5;129;01mis\u001b[39;00m \u001b[38;5;129;01mnot\u001b[39;00m \u001b[38;5;28;01mNone\u001b[39;00m:\n",
      "File \u001b[1;32m~\\AppData\\Local\\Programs\\Python\\Python311\\Lib\\site-packages\\azure\\search\\documents\\_generated\\_serialization.py:1228\u001b[0m, in \u001b[0;36mrest_key_case_insensitive_extractor\u001b[1;34m(attr, attr_desc, data)\u001b[0m\n\u001b[0;32m   1227\u001b[0m \u001b[38;5;28;01mif\u001b[39;00m working_data:\n\u001b[1;32m-> 1228\u001b[0m     \u001b[38;5;28;01mreturn\u001b[39;00m \u001b[43mattribute_key_case_insensitive_extractor\u001b[49m\u001b[43m(\u001b[49m\u001b[43mkey\u001b[49m\u001b[43m,\u001b[49m\u001b[43m \u001b[49m\u001b[38;5;28;43;01mNone\u001b[39;49;00m\u001b[43m,\u001b[49m\u001b[43m \u001b[49m\u001b[43mworking_data\u001b[49m\u001b[43m)\u001b[49m\n",
      "File \u001b[1;32m~\\AppData\\Local\\Programs\\Python\\Python311\\Lib\\site-packages\\azure\\search\\documents\\_generated\\_serialization.py:1256\u001b[0m, in \u001b[0;36mattribute_key_case_insensitive_extractor\u001b[1;34m(attr, _, data)\u001b[0m\n\u001b[0;32m   1255\u001b[0m \u001b[38;5;28;01mfor\u001b[39;00m key \u001b[38;5;129;01min\u001b[39;00m data:\n\u001b[1;32m-> 1256\u001b[0m     \u001b[38;5;28;01mif\u001b[39;00m lower_attr \u001b[38;5;241m==\u001b[39m \u001b[43mkey\u001b[49m\u001b[38;5;241;43m.\u001b[39;49m\u001b[43mlower\u001b[49m():\n\u001b[0;32m   1257\u001b[0m         found_key \u001b[38;5;241m=\u001b[39m key\n",
      "\u001b[1;31mAttributeError\u001b[0m: 'float' object has no attribute 'lower'",
      "\nDuring handling of the above exception, another exception occurred:\n",
      "\u001b[1;31mDeserializationError\u001b[0m                      Traceback (most recent call last)",
      "File \u001b[1;32m~\\AppData\\Local\\Programs\\Python\\Python311\\Lib\\site-packages\\azure\\search\\documents\\_generated\\_serialization.py:710\u001b[0m, in \u001b[0;36mSerializer.body\u001b[1;34m(self, data, data_type, **kwargs)\u001b[0m\n\u001b[0;32m    705\u001b[0m         deserializer\u001b[38;5;241m.\u001b[39mkey_extractors \u001b[38;5;241m=\u001b[39m [\n\u001b[0;32m    706\u001b[0m             rest_key_case_insensitive_extractor,\n\u001b[0;32m    707\u001b[0m             attribute_key_case_insensitive_extractor,\n\u001b[0;32m    708\u001b[0m             last_rest_key_case_insensitive_extractor,\n\u001b[0;32m    709\u001b[0m         ]\n\u001b[1;32m--> 710\u001b[0m     data \u001b[38;5;241m=\u001b[39m \u001b[43mdeserializer\u001b[49m\u001b[38;5;241;43m.\u001b[39;49m\u001b[43m_deserialize\u001b[49m\u001b[43m(\u001b[49m\u001b[43mdata_type\u001b[49m\u001b[43m,\u001b[49m\u001b[43m \u001b[49m\u001b[43mdata\u001b[49m\u001b[43m)\u001b[49m\n\u001b[0;32m    711\u001b[0m \u001b[38;5;28;01mexcept\u001b[39;00m DeserializationError \u001b[38;5;28;01mas\u001b[39;00m err:\n",
      "File \u001b[1;32m~\\AppData\\Local\\Programs\\Python\\Python311\\Lib\\site-packages\\azure\\search\\documents\\_generated\\_serialization.py:1430\u001b[0m, in \u001b[0;36mDeserializer._deserialize\u001b[1;34m(self, target_obj, data)\u001b[0m\n\u001b[0;32m   1429\u001b[0m         \u001b[38;5;28;01mcontinue\u001b[39;00m\n\u001b[1;32m-> 1430\u001b[0m     \u001b[38;5;28msetattr\u001b[39m(data, attr, \u001b[38;5;28;43mself\u001b[39;49m\u001b[38;5;241;43m.\u001b[39;49m\u001b[43m_deserialize\u001b[49m\u001b[43m(\u001b[49m\u001b[43mlocal_type\u001b[49m\u001b[43m,\u001b[49m\u001b[43m \u001b[49m\u001b[43mvalue\u001b[49m\u001b[43m)\u001b[49m)\n\u001b[0;32m   1431\u001b[0m \u001b[38;5;28;01mreturn\u001b[39;00m data\n",
      "File \u001b[1;32m~\\AppData\\Local\\Programs\\Python\\Python311\\Lib\\site-packages\\azure\\search\\documents\\_generated\\_serialization.py:1474\u001b[0m, in \u001b[0;36mDeserializer._deserialize\u001b[1;34m(self, target_obj, data)\u001b[0m\n\u001b[0;32m   1473\u001b[0m     msg \u001b[38;5;241m=\u001b[39m \u001b[38;5;124m\"\u001b[39m\u001b[38;5;124mUnable to deserialize to object: \u001b[39m\u001b[38;5;124m\"\u001b[39m \u001b[38;5;241m+\u001b[39m class_name  \u001b[38;5;66;03m# type: ignore\u001b[39;00m\n\u001b[1;32m-> 1474\u001b[0m     \u001b[43mraise_with_traceback\u001b[49m\u001b[43m(\u001b[49m\u001b[43mDeserializationError\u001b[49m\u001b[43m,\u001b[49m\u001b[43m \u001b[49m\u001b[43mmsg\u001b[49m\u001b[43m,\u001b[49m\u001b[43m \u001b[49m\u001b[43merr\u001b[49m\u001b[43m)\u001b[49m\n\u001b[0;32m   1475\u001b[0m \u001b[38;5;28;01melse\u001b[39;00m:\n",
      "File \u001b[1;32m~\\AppData\\Local\\Programs\\Python\\Python311\\Lib\\site-packages\\azure\\core\\exceptions.py:77\u001b[0m, in \u001b[0;36mraise_with_traceback\u001b[1;34m(exception, *args, **kwargs)\u001b[0m\n\u001b[0;32m     76\u001b[0m \u001b[38;5;28;01mtry\u001b[39;00m:\n\u001b[1;32m---> 77\u001b[0m     \u001b[38;5;28;01mraise\u001b[39;00m error\u001b[38;5;241m.\u001b[39mwith_traceback(exc_traceback)\n\u001b[0;32m     78\u001b[0m \u001b[38;5;28;01mexcept\u001b[39;00m \u001b[38;5;167;01mAttributeError\u001b[39;00m:\n",
      "File \u001b[1;32m~\\AppData\\Local\\Programs\\Python\\Python311\\Lib\\site-packages\\azure\\search\\documents\\_generated\\_serialization.py:1459\u001b[0m, in \u001b[0;36mDeserializer._deserialize\u001b[1;34m(self, target_obj, data)\u001b[0m\n\u001b[0;32m   1458\u001b[0m \u001b[38;5;28;01mfor\u001b[39;00m key_extractor \u001b[38;5;129;01min\u001b[39;00m \u001b[38;5;28mself\u001b[39m\u001b[38;5;241m.\u001b[39mkey_extractors:\n\u001b[1;32m-> 1459\u001b[0m     found_value \u001b[38;5;241m=\u001b[39m \u001b[43mkey_extractor\u001b[49m\u001b[43m(\u001b[49m\u001b[43mattr\u001b[49m\u001b[43m,\u001b[49m\u001b[43m \u001b[49m\u001b[43mattr_desc\u001b[49m\u001b[43m,\u001b[49m\u001b[43m \u001b[49m\u001b[43mdata\u001b[49m\u001b[43m)\u001b[49m\n\u001b[0;32m   1460\u001b[0m     \u001b[38;5;28;01mif\u001b[39;00m found_value \u001b[38;5;129;01mis\u001b[39;00m \u001b[38;5;129;01mnot\u001b[39;00m \u001b[38;5;28;01mNone\u001b[39;00m:\n",
      "File \u001b[1;32m~\\AppData\\Local\\Programs\\Python\\Python311\\Lib\\site-packages\\azure\\search\\documents\\_generated\\_serialization.py:1228\u001b[0m, in \u001b[0;36mrest_key_case_insensitive_extractor\u001b[1;34m(attr, attr_desc, data)\u001b[0m\n\u001b[0;32m   1227\u001b[0m \u001b[38;5;28;01mif\u001b[39;00m working_data:\n\u001b[1;32m-> 1228\u001b[0m     \u001b[38;5;28;01mreturn\u001b[39;00m \u001b[43mattribute_key_case_insensitive_extractor\u001b[49m\u001b[43m(\u001b[49m\u001b[43mkey\u001b[49m\u001b[43m,\u001b[49m\u001b[43m \u001b[49m\u001b[38;5;28;43;01mNone\u001b[39;49;00m\u001b[43m,\u001b[49m\u001b[43m \u001b[49m\u001b[43mworking_data\u001b[49m\u001b[43m)\u001b[49m\n",
      "File \u001b[1;32m~\\AppData\\Local\\Programs\\Python\\Python311\\Lib\\site-packages\\azure\\search\\documents\\_generated\\_serialization.py:1256\u001b[0m, in \u001b[0;36mattribute_key_case_insensitive_extractor\u001b[1;34m(attr, _, data)\u001b[0m\n\u001b[0;32m   1255\u001b[0m \u001b[38;5;28;01mfor\u001b[39;00m key \u001b[38;5;129;01min\u001b[39;00m data:\n\u001b[1;32m-> 1256\u001b[0m     \u001b[38;5;28;01mif\u001b[39;00m lower_attr \u001b[38;5;241m==\u001b[39m \u001b[43mkey\u001b[49m\u001b[38;5;241;43m.\u001b[39;49m\u001b[43mlower\u001b[49m():\n\u001b[0;32m   1257\u001b[0m         found_key \u001b[38;5;241m=\u001b[39m key\n",
      "\u001b[1;31mDeserializationError\u001b[0m: (\", AttributeError: 'float' object has no attribute 'lower'\", 'Unable to deserialize to object: type', AttributeError(\"'float' object has no attribute 'lower'\"))",
      "\nDuring handling of the above exception, another exception occurred:\n",
      "\u001b[1;31mSerializationError\u001b[0m                        Traceback (most recent call last)",
      "Cell \u001b[1;32mIn[17], line 14\u001b[0m\n\u001b[0;32m      4\u001b[0m \u001b[38;5;66;03m#search_client = SearchClient(service_endpoint, index_name, credential=credential)  \u001b[39;00m\n\u001b[0;32m      6\u001b[0m results \u001b[38;5;241m=\u001b[39m search_client\u001b[38;5;241m.\u001b[39msearch(  \n\u001b[0;32m      7\u001b[0m             search_text\u001b[38;5;241m=\u001b[39m\u001b[38;5;28;01mNone\u001b[39;00m,  \n\u001b[0;32m      8\u001b[0m             vector\u001b[38;5;241m=\u001b[39mget_embeddings_from_text(testQuery),\n\u001b[1;32m   (...)\u001b[0m\n\u001b[0;32m     11\u001b[0m                             select\u001b[38;5;241m=\u001b[39m[\u001b[38;5;124m\"\u001b[39m\u001b[38;5;124mtitle\u001b[39m\u001b[38;5;124m\"\u001b[39m, \u001b[38;5;124m\"\u001b[39m\u001b[38;5;124mcontent\u001b[39m\u001b[38;5;124m\"\u001b[39m, \u001b[38;5;124m\"\u001b[39m\u001b[38;5;124mbill_id\u001b[39m\u001b[38;5;124m\"\u001b[39m]\n\u001b[0;32m     12\u001b[0m                         )\n\u001b[1;32m---> 14\u001b[0m \u001b[38;5;28;01mfor\u001b[39;00m result \u001b[38;5;129;01min\u001b[39;00m results:\n\u001b[0;32m     15\u001b[0m     \u001b[38;5;66;03m#print(f\"Bill Id: {result['bill_id']}\")\u001b[39;00m\n\u001b[0;32m     16\u001b[0m     \u001b[38;5;28mprint\u001b[39m(\u001b[38;5;124mf\u001b[39m\u001b[38;5;124m\"\u001b[39m\u001b[38;5;124mScore: \u001b[39m\u001b[38;5;132;01m{\u001b[39;00mresult[\u001b[38;5;124m'\u001b[39m\u001b[38;5;124m@search.score\u001b[39m\u001b[38;5;124m'\u001b[39m]\u001b[38;5;132;01m}\u001b[39;00m\u001b[38;5;124m\"\u001b[39m)\n\u001b[0;32m     17\u001b[0m     \u001b[38;5;66;03m#print(f\"Title: {result['title']}\")\u001b[39;00m\n\u001b[0;32m     18\u001b[0m     \u001b[38;5;66;03m#print(f\"Summary Length: {result['sum_len']}\")\u001b[39;00m\n\u001b[0;32m     19\u001b[0m     \u001b[38;5;66;03m#print(f\"Content: {result['content']}\")\u001b[39;00m\n\u001b[0;32m     20\u001b[0m     \u001b[38;5;66;03m#result\u001b[39;00m\n",
      "File \u001b[1;32m~\\AppData\\Local\\Programs\\Python\\Python311\\Lib\\site-packages\\azure\\search\\documents\\_paging.py:54\u001b[0m, in \u001b[0;36mSearchItemPaged.__next__\u001b[1;34m(self)\u001b[0m\n\u001b[0;32m     52\u001b[0m     first_iterator \u001b[38;5;241m=\u001b[39m \u001b[38;5;28mself\u001b[39m\u001b[38;5;241m.\u001b[39m_first_iterator_instance()\n\u001b[0;32m     53\u001b[0m     \u001b[38;5;28mself\u001b[39m\u001b[38;5;241m.\u001b[39m_page_iterator \u001b[38;5;241m=\u001b[39m itertools\u001b[38;5;241m.\u001b[39mchain\u001b[38;5;241m.\u001b[39mfrom_iterable(first_iterator)\n\u001b[1;32m---> 54\u001b[0m \u001b[38;5;28;01mreturn\u001b[39;00m \u001b[38;5;28;43mnext\u001b[39;49m\u001b[43m(\u001b[49m\u001b[38;5;28;43mself\u001b[39;49m\u001b[38;5;241;43m.\u001b[39;49m\u001b[43m_page_iterator\u001b[49m\u001b[43m)\u001b[49m\n",
      "File \u001b[1;32m~\\AppData\\Local\\Programs\\Python\\Python311\\Lib\\site-packages\\azure\\core\\paging.py:76\u001b[0m, in \u001b[0;36mPageIterator.__next__\u001b[1;34m(self)\u001b[0m\n\u001b[0;32m     74\u001b[0m     \u001b[38;5;28;01mraise\u001b[39;00m \u001b[38;5;167;01mStopIteration\u001b[39;00m(\u001b[38;5;124m\"\u001b[39m\u001b[38;5;124mEnd of paging\u001b[39m\u001b[38;5;124m\"\u001b[39m)\n\u001b[0;32m     75\u001b[0m \u001b[38;5;28;01mtry\u001b[39;00m:\n\u001b[1;32m---> 76\u001b[0m     \u001b[38;5;28mself\u001b[39m\u001b[38;5;241m.\u001b[39m_response \u001b[38;5;241m=\u001b[39m \u001b[38;5;28;43mself\u001b[39;49m\u001b[38;5;241;43m.\u001b[39;49m\u001b[43m_get_next\u001b[49m\u001b[43m(\u001b[49m\u001b[38;5;28;43mself\u001b[39;49m\u001b[38;5;241;43m.\u001b[39;49m\u001b[43mcontinuation_token\u001b[49m\u001b[43m)\u001b[49m\n\u001b[0;32m     77\u001b[0m \u001b[38;5;28;01mexcept\u001b[39;00m AzureError \u001b[38;5;28;01mas\u001b[39;00m error:\n\u001b[0;32m     78\u001b[0m     \u001b[38;5;28;01mif\u001b[39;00m \u001b[38;5;129;01mnot\u001b[39;00m error\u001b[38;5;241m.\u001b[39mcontinuation_token:\n",
      "File \u001b[1;32m~\\AppData\\Local\\Programs\\Python\\Python311\\Lib\\site-packages\\azure\\search\\documents\\_paging.py:114\u001b[0m, in \u001b[0;36mSearchPageIterator._get_next_cb\u001b[1;34m(self, continuation_token)\u001b[0m\n\u001b[0;32m    112\u001b[0m \u001b[38;5;28;01mdef\u001b[39;00m \u001b[38;5;21m_get_next_cb\u001b[39m(\u001b[38;5;28mself\u001b[39m, continuation_token):\n\u001b[0;32m    113\u001b[0m     \u001b[38;5;28;01mif\u001b[39;00m continuation_token \u001b[38;5;129;01mis\u001b[39;00m \u001b[38;5;28;01mNone\u001b[39;00m:\n\u001b[1;32m--> 114\u001b[0m         \u001b[38;5;28;01mreturn\u001b[39;00m \u001b[38;5;28;43mself\u001b[39;49m\u001b[38;5;241;43m.\u001b[39;49m\u001b[43m_client\u001b[49m\u001b[38;5;241;43m.\u001b[39;49m\u001b[43mdocuments\u001b[49m\u001b[38;5;241;43m.\u001b[39;49m\u001b[43msearch_post\u001b[49m\u001b[43m(\u001b[49m\n\u001b[0;32m    115\u001b[0m \u001b[43m            \u001b[49m\u001b[43msearch_request\u001b[49m\u001b[38;5;241;43m=\u001b[39;49m\u001b[38;5;28;43mself\u001b[39;49m\u001b[38;5;241;43m.\u001b[39;49m\u001b[43m_initial_query\u001b[49m\u001b[38;5;241;43m.\u001b[39;49m\u001b[43mrequest\u001b[49m\u001b[43m,\u001b[49m\u001b[43m \u001b[49m\u001b[38;5;241;43m*\u001b[39;49m\u001b[38;5;241;43m*\u001b[39;49m\u001b[38;5;28;43mself\u001b[39;49m\u001b[38;5;241;43m.\u001b[39;49m\u001b[43m_kwargs\u001b[49m\n\u001b[0;32m    116\u001b[0m \u001b[43m        \u001b[49m\u001b[43m)\u001b[49m\n\u001b[0;32m    118\u001b[0m     _next_link, next_page_request \u001b[38;5;241m=\u001b[39m unpack_continuation_token(continuation_token)\n\u001b[0;32m    120\u001b[0m     \u001b[38;5;28;01mreturn\u001b[39;00m \u001b[38;5;28mself\u001b[39m\u001b[38;5;241m.\u001b[39m_client\u001b[38;5;241m.\u001b[39mdocuments\u001b[38;5;241m.\u001b[39msearch_post(\n\u001b[0;32m    121\u001b[0m         search_request\u001b[38;5;241m=\u001b[39mnext_page_request, \u001b[38;5;241m*\u001b[39m\u001b[38;5;241m*\u001b[39m\u001b[38;5;28mself\u001b[39m\u001b[38;5;241m.\u001b[39m_kwargs\n\u001b[0;32m    122\u001b[0m     )\n",
      "File \u001b[1;32m~\\AppData\\Local\\Programs\\Python\\Python311\\Lib\\site-packages\\azure\\core\\tracing\\decorator.py:76\u001b[0m, in \u001b[0;36mdistributed_trace.<locals>.decorator.<locals>.wrapper_use_tracer\u001b[1;34m(*args, **kwargs)\u001b[0m\n\u001b[0;32m     74\u001b[0m span_impl_type \u001b[38;5;241m=\u001b[39m settings\u001b[38;5;241m.\u001b[39mtracing_implementation()\n\u001b[0;32m     75\u001b[0m \u001b[38;5;28;01mif\u001b[39;00m span_impl_type \u001b[38;5;129;01mis\u001b[39;00m \u001b[38;5;28;01mNone\u001b[39;00m:\n\u001b[1;32m---> 76\u001b[0m     \u001b[38;5;28;01mreturn\u001b[39;00m \u001b[43mfunc\u001b[49m\u001b[43m(\u001b[49m\u001b[38;5;241;43m*\u001b[39;49m\u001b[43margs\u001b[49m\u001b[43m,\u001b[49m\u001b[43m \u001b[49m\u001b[38;5;241;43m*\u001b[39;49m\u001b[38;5;241;43m*\u001b[39;49m\u001b[43mkwargs\u001b[49m\u001b[43m)\u001b[49m\n\u001b[0;32m     78\u001b[0m \u001b[38;5;66;03m# Merge span is parameter is set, but only if no explicit parent are passed\u001b[39;00m\n\u001b[0;32m     79\u001b[0m \u001b[38;5;28;01mif\u001b[39;00m merge_span \u001b[38;5;129;01mand\u001b[39;00m \u001b[38;5;129;01mnot\u001b[39;00m passed_in_parent:\n",
      "File \u001b[1;32m~\\AppData\\Local\\Programs\\Python\\Python311\\Lib\\site-packages\\azure\\search\\documents\\_generated\\operations\\_documents_operations.py:764\u001b[0m, in \u001b[0;36mDocumentsOperations.search_post\u001b[1;34m(self, search_request, request_options, **kwargs)\u001b[0m\n\u001b[0;32m    762\u001b[0m     _content \u001b[38;5;241m=\u001b[39m search_request\n\u001b[0;32m    763\u001b[0m \u001b[38;5;28;01melse\u001b[39;00m:\n\u001b[1;32m--> 764\u001b[0m     _json \u001b[38;5;241m=\u001b[39m \u001b[38;5;28;43mself\u001b[39;49m\u001b[38;5;241;43m.\u001b[39;49m\u001b[43m_serialize\u001b[49m\u001b[38;5;241;43m.\u001b[39;49m\u001b[43mbody\u001b[49m\u001b[43m(\u001b[49m\u001b[43msearch_request\u001b[49m\u001b[43m,\u001b[49m\u001b[43m \u001b[49m\u001b[38;5;124;43m\"\u001b[39;49m\u001b[38;5;124;43mSearchRequest\u001b[39;49m\u001b[38;5;124;43m\"\u001b[39;49m\u001b[43m)\u001b[49m\n\u001b[0;32m    766\u001b[0m request \u001b[38;5;241m=\u001b[39m build_search_post_request(\n\u001b[0;32m    767\u001b[0m     x_ms_client_request_id\u001b[38;5;241m=\u001b[39m_x_ms_client_request_id,\n\u001b[0;32m    768\u001b[0m     api_version\u001b[38;5;241m=\u001b[39mapi_version,\n\u001b[1;32m   (...)\u001b[0m\n\u001b[0;32m    774\u001b[0m     params\u001b[38;5;241m=\u001b[39m_params,\n\u001b[0;32m    775\u001b[0m )\n\u001b[0;32m    776\u001b[0m request \u001b[38;5;241m=\u001b[39m _convert_request(request)\n",
      "File \u001b[1;32m~\\AppData\\Local\\Programs\\Python\\Python311\\Lib\\site-packages\\azure\\search\\documents\\_generated\\_serialization.py:712\u001b[0m, in \u001b[0;36mSerializer.body\u001b[1;34m(self, data, data_type, **kwargs)\u001b[0m\n\u001b[0;32m    710\u001b[0m         data \u001b[38;5;241m=\u001b[39m deserializer\u001b[38;5;241m.\u001b[39m_deserialize(data_type, data)\n\u001b[0;32m    711\u001b[0m     \u001b[38;5;28;01mexcept\u001b[39;00m DeserializationError \u001b[38;5;28;01mas\u001b[39;00m err:\n\u001b[1;32m--> 712\u001b[0m         \u001b[43mraise_with_traceback\u001b[49m\u001b[43m(\u001b[49m\u001b[43mSerializationError\u001b[49m\u001b[43m,\u001b[49m\u001b[43m \u001b[49m\u001b[38;5;124;43m\"\u001b[39;49m\u001b[38;5;124;43mUnable to build a model: \u001b[39;49m\u001b[38;5;124;43m\"\u001b[39;49m\u001b[43m \u001b[49m\u001b[38;5;241;43m+\u001b[39;49m\u001b[43m \u001b[49m\u001b[38;5;28;43mstr\u001b[39;49m\u001b[43m(\u001b[49m\u001b[43merr\u001b[49m\u001b[43m)\u001b[49m\u001b[43m,\u001b[49m\u001b[43m \u001b[49m\u001b[43merr\u001b[49m\u001b[43m)\u001b[49m\n\u001b[0;32m    714\u001b[0m \u001b[38;5;28;01mreturn\u001b[39;00m \u001b[38;5;28mself\u001b[39m\u001b[38;5;241m.\u001b[39m_serialize(data, data_type, \u001b[38;5;241m*\u001b[39m\u001b[38;5;241m*\u001b[39mkwargs)\n",
      "File \u001b[1;32m~\\AppData\\Local\\Programs\\Python\\Python311\\Lib\\site-packages\\azure\\core\\exceptions.py:77\u001b[0m, in \u001b[0;36mraise_with_traceback\u001b[1;34m(exception, *args, **kwargs)\u001b[0m\n\u001b[0;32m     75\u001b[0m error \u001b[38;5;241m=\u001b[39m exception(exc_msg, \u001b[38;5;241m*\u001b[39margs, \u001b[38;5;241m*\u001b[39m\u001b[38;5;241m*\u001b[39mkwargs)\n\u001b[0;32m     76\u001b[0m \u001b[38;5;28;01mtry\u001b[39;00m:\n\u001b[1;32m---> 77\u001b[0m     \u001b[38;5;28;01mraise\u001b[39;00m error\u001b[38;5;241m.\u001b[39mwith_traceback(exc_traceback)\n\u001b[0;32m     78\u001b[0m \u001b[38;5;28;01mexcept\u001b[39;00m \u001b[38;5;167;01mAttributeError\u001b[39;00m:\n\u001b[0;32m     79\u001b[0m     error\u001b[38;5;241m.\u001b[39m__traceback__ \u001b[38;5;241m=\u001b[39m exc_traceback\n",
      "File \u001b[1;32m~\\AppData\\Local\\Programs\\Python\\Python311\\Lib\\site-packages\\azure\\search\\documents\\_generated\\_serialization.py:710\u001b[0m, in \u001b[0;36mSerializer.body\u001b[1;34m(self, data, data_type, **kwargs)\u001b[0m\n\u001b[0;32m    704\u001b[0m     \u001b[38;5;28;01melse\u001b[39;00m:\n\u001b[0;32m    705\u001b[0m         deserializer\u001b[38;5;241m.\u001b[39mkey_extractors \u001b[38;5;241m=\u001b[39m [\n\u001b[0;32m    706\u001b[0m             rest_key_case_insensitive_extractor,\n\u001b[0;32m    707\u001b[0m             attribute_key_case_insensitive_extractor,\n\u001b[0;32m    708\u001b[0m             last_rest_key_case_insensitive_extractor,\n\u001b[0;32m    709\u001b[0m         ]\n\u001b[1;32m--> 710\u001b[0m     data \u001b[38;5;241m=\u001b[39m \u001b[43mdeserializer\u001b[49m\u001b[38;5;241;43m.\u001b[39;49m\u001b[43m_deserialize\u001b[49m\u001b[43m(\u001b[49m\u001b[43mdata_type\u001b[49m\u001b[43m,\u001b[49m\u001b[43m \u001b[49m\u001b[43mdata\u001b[49m\u001b[43m)\u001b[49m\n\u001b[0;32m    711\u001b[0m \u001b[38;5;28;01mexcept\u001b[39;00m DeserializationError \u001b[38;5;28;01mas\u001b[39;00m err:\n\u001b[0;32m    712\u001b[0m     raise_with_traceback(SerializationError, \u001b[38;5;124m\"\u001b[39m\u001b[38;5;124mUnable to build a model: \u001b[39m\u001b[38;5;124m\"\u001b[39m \u001b[38;5;241m+\u001b[39m \u001b[38;5;28mstr\u001b[39m(err), err)\n",
      "File \u001b[1;32m~\\AppData\\Local\\Programs\\Python\\Python311\\Lib\\site-packages\\azure\\search\\documents\\_generated\\_serialization.py:1430\u001b[0m, in \u001b[0;36mDeserializer._deserialize\u001b[1;34m(self, target_obj, data)\u001b[0m\n\u001b[0;32m   1428\u001b[0m         \u001b[38;5;28;01mif\u001b[39;00m internal_data_type \u001b[38;5;129;01mnot\u001b[39;00m \u001b[38;5;129;01min\u001b[39;00m \u001b[38;5;28mself\u001b[39m\u001b[38;5;241m.\u001b[39mdependencies \u001b[38;5;129;01mor\u001b[39;00m \u001b[38;5;28misinstance\u001b[39m(internal_data_type, Enum):\n\u001b[0;32m   1429\u001b[0m             \u001b[38;5;28;01mcontinue\u001b[39;00m\n\u001b[1;32m-> 1430\u001b[0m         \u001b[38;5;28msetattr\u001b[39m(data, attr, \u001b[38;5;28;43mself\u001b[39;49m\u001b[38;5;241;43m.\u001b[39;49m\u001b[43m_deserialize\u001b[49m\u001b[43m(\u001b[49m\u001b[43mlocal_type\u001b[49m\u001b[43m,\u001b[49m\u001b[43m \u001b[49m\u001b[43mvalue\u001b[49m\u001b[43m)\u001b[49m)\n\u001b[0;32m   1431\u001b[0m     \u001b[38;5;28;01mreturn\u001b[39;00m data\n\u001b[0;32m   1432\u001b[0m \u001b[38;5;28;01mexcept\u001b[39;00m \u001b[38;5;167;01mAttributeError\u001b[39;00m:\n",
      "File \u001b[1;32m~\\AppData\\Local\\Programs\\Python\\Python311\\Lib\\site-packages\\azure\\search\\documents\\_generated\\_serialization.py:1474\u001b[0m, in \u001b[0;36mDeserializer._deserialize\u001b[1;34m(self, target_obj, data)\u001b[0m\n\u001b[0;32m   1472\u001b[0m \u001b[38;5;28;01mexcept\u001b[39;00m (\u001b[38;5;167;01mAttributeError\u001b[39;00m, \u001b[38;5;167;01mTypeError\u001b[39;00m, \u001b[38;5;167;01mKeyError\u001b[39;00m) \u001b[38;5;28;01mas\u001b[39;00m err:\n\u001b[0;32m   1473\u001b[0m     msg \u001b[38;5;241m=\u001b[39m \u001b[38;5;124m\"\u001b[39m\u001b[38;5;124mUnable to deserialize to object: \u001b[39m\u001b[38;5;124m\"\u001b[39m \u001b[38;5;241m+\u001b[39m class_name  \u001b[38;5;66;03m# type: ignore\u001b[39;00m\n\u001b[1;32m-> 1474\u001b[0m     \u001b[43mraise_with_traceback\u001b[49m\u001b[43m(\u001b[49m\u001b[43mDeserializationError\u001b[49m\u001b[43m,\u001b[49m\u001b[43m \u001b[49m\u001b[43mmsg\u001b[49m\u001b[43m,\u001b[49m\u001b[43m \u001b[49m\u001b[43merr\u001b[49m\u001b[43m)\u001b[49m\n\u001b[0;32m   1475\u001b[0m \u001b[38;5;28;01melse\u001b[39;00m:\n\u001b[0;32m   1476\u001b[0m     additional_properties \u001b[38;5;241m=\u001b[39m \u001b[38;5;28mself\u001b[39m\u001b[38;5;241m.\u001b[39m_build_additional_properties(attributes, data)\n",
      "File \u001b[1;32m~\\AppData\\Local\\Programs\\Python\\Python311\\Lib\\site-packages\\azure\\core\\exceptions.py:77\u001b[0m, in \u001b[0;36mraise_with_traceback\u001b[1;34m(exception, *args, **kwargs)\u001b[0m\n\u001b[0;32m     75\u001b[0m error \u001b[38;5;241m=\u001b[39m exception(exc_msg, \u001b[38;5;241m*\u001b[39margs, \u001b[38;5;241m*\u001b[39m\u001b[38;5;241m*\u001b[39mkwargs)\n\u001b[0;32m     76\u001b[0m \u001b[38;5;28;01mtry\u001b[39;00m:\n\u001b[1;32m---> 77\u001b[0m     \u001b[38;5;28;01mraise\u001b[39;00m error\u001b[38;5;241m.\u001b[39mwith_traceback(exc_traceback)\n\u001b[0;32m     78\u001b[0m \u001b[38;5;28;01mexcept\u001b[39;00m \u001b[38;5;167;01mAttributeError\u001b[39;00m:\n\u001b[0;32m     79\u001b[0m     error\u001b[38;5;241m.\u001b[39m__traceback__ \u001b[38;5;241m=\u001b[39m exc_traceback\n",
      "File \u001b[1;32m~\\AppData\\Local\\Programs\\Python\\Python311\\Lib\\site-packages\\azure\\search\\documents\\_generated\\_serialization.py:1459\u001b[0m, in \u001b[0;36mDeserializer._deserialize\u001b[1;34m(self, target_obj, data)\u001b[0m\n\u001b[0;32m   1456\u001b[0m     attr_desc[\u001b[38;5;124m\"\u001b[39m\u001b[38;5;124minternalType\u001b[39m\u001b[38;5;124m\"\u001b[39m] \u001b[38;5;241m=\u001b[39m \u001b[38;5;28mself\u001b[39m\u001b[38;5;241m.\u001b[39mdependencies[internal_data_type]\n\u001b[0;32m   1458\u001b[0m \u001b[38;5;28;01mfor\u001b[39;00m key_extractor \u001b[38;5;129;01min\u001b[39;00m \u001b[38;5;28mself\u001b[39m\u001b[38;5;241m.\u001b[39mkey_extractors:\n\u001b[1;32m-> 1459\u001b[0m     found_value \u001b[38;5;241m=\u001b[39m \u001b[43mkey_extractor\u001b[49m\u001b[43m(\u001b[49m\u001b[43mattr\u001b[49m\u001b[43m,\u001b[49m\u001b[43m \u001b[49m\u001b[43mattr_desc\u001b[49m\u001b[43m,\u001b[49m\u001b[43m \u001b[49m\u001b[43mdata\u001b[49m\u001b[43m)\u001b[49m\n\u001b[0;32m   1460\u001b[0m     \u001b[38;5;28;01mif\u001b[39;00m found_value \u001b[38;5;129;01mis\u001b[39;00m \u001b[38;5;129;01mnot\u001b[39;00m \u001b[38;5;28;01mNone\u001b[39;00m:\n\u001b[0;32m   1461\u001b[0m         \u001b[38;5;28;01mif\u001b[39;00m raw_value \u001b[38;5;129;01mis\u001b[39;00m \u001b[38;5;129;01mnot\u001b[39;00m \u001b[38;5;28;01mNone\u001b[39;00m \u001b[38;5;129;01mand\u001b[39;00m raw_value \u001b[38;5;241m!=\u001b[39m found_value:\n",
      "File \u001b[1;32m~\\AppData\\Local\\Programs\\Python\\Python311\\Lib\\site-packages\\azure\\search\\documents\\_generated\\_serialization.py:1228\u001b[0m, in \u001b[0;36mrest_key_case_insensitive_extractor\u001b[1;34m(attr, attr_desc, data)\u001b[0m\n\u001b[0;32m   1225\u001b[0m     key \u001b[38;5;241m=\u001b[39m \u001b[38;5;124m\"\u001b[39m\u001b[38;5;124m.\u001b[39m\u001b[38;5;124m\"\u001b[39m\u001b[38;5;241m.\u001b[39mjoin(dict_keys[\u001b[38;5;241m1\u001b[39m:])\n\u001b[0;32m   1227\u001b[0m \u001b[38;5;28;01mif\u001b[39;00m working_data:\n\u001b[1;32m-> 1228\u001b[0m     \u001b[38;5;28;01mreturn\u001b[39;00m \u001b[43mattribute_key_case_insensitive_extractor\u001b[49m\u001b[43m(\u001b[49m\u001b[43mkey\u001b[49m\u001b[43m,\u001b[49m\u001b[43m \u001b[49m\u001b[38;5;28;43;01mNone\u001b[39;49;00m\u001b[43m,\u001b[49m\u001b[43m \u001b[49m\u001b[43mworking_data\u001b[49m\u001b[43m)\u001b[49m\n",
      "File \u001b[1;32m~\\AppData\\Local\\Programs\\Python\\Python311\\Lib\\site-packages\\azure\\search\\documents\\_generated\\_serialization.py:1256\u001b[0m, in \u001b[0;36mattribute_key_case_insensitive_extractor\u001b[1;34m(attr, _, data)\u001b[0m\n\u001b[0;32m   1254\u001b[0m lower_attr \u001b[38;5;241m=\u001b[39m attr\u001b[38;5;241m.\u001b[39mlower()\n\u001b[0;32m   1255\u001b[0m \u001b[38;5;28;01mfor\u001b[39;00m key \u001b[38;5;129;01min\u001b[39;00m data:\n\u001b[1;32m-> 1256\u001b[0m     \u001b[38;5;28;01mif\u001b[39;00m lower_attr \u001b[38;5;241m==\u001b[39m \u001b[43mkey\u001b[49m\u001b[38;5;241;43m.\u001b[39;49m\u001b[43mlower\u001b[49m():\n\u001b[0;32m   1257\u001b[0m         found_key \u001b[38;5;241m=\u001b[39m key\n\u001b[0;32m   1258\u001b[0m         \u001b[38;5;28;01mbreak\u001b[39;00m\n",
      "\u001b[1;31mSerializationError\u001b[0m: (', DeserializationError: (\", AttributeError: \\'float\\' object has no attribute \\'lower\\'\", \\'Unable to deserialize to object: type\\', AttributeError(\"\\'float\\' object has no attribute \\'lower\\'\"))', 'Unable to build a model: (\", AttributeError: \\'float\\' object has no attribute \\'lower\\'\", \\'Unable to deserialize to object: type\\', AttributeError(\"\\'float\\' object has no attribute \\'lower\\'\"))', DeserializationError(\", AttributeError: 'float' object has no attribute 'lower'\", 'Unable to deserialize to object: type', AttributeError(\"'float' object has no attribute 'lower'\")))"
     ]
    }
   ],
   "source": [
    "# Pure Vector Search multi-lingual (e.g 'tools for software development' in Dutch)  \n",
    "testQuery = \"tools voor softwareontwikkeling\"  \n",
    " \n",
    "results = search_client.search(  \n",
    "            search_text=None,  \n",
    "            vector=get_embeddings_from_text(testQuery),\n",
    "            top_k=1\n",
    "            vector_fields=\"content_vector\",\n",
    "            select=[\"title\", \"content\", \"bill_id\"]\n",
    "        )\n",
    "\n",
    "for result in results:\n",
    "    #print(f\"Bill Id: {result['bill_id']}\")\n",
    "    print(f\"Score: {result['@search.score']}\")\n",
    "    #print(f\"Title: {result['title']}\")\n",
    "    #print(f\"Summary Length: {result['sum_len']}\")\n",
    "    #print(f\"Content: {result['content']}\")\n",
    "    print(f\"Category: {result['bill_id']}\\n\")  \n",
    "    "
   ]
  },
  {
   "cell_type": "markdown",
   "metadata": {},
   "source": [
    "## Perform a Cross-Field Vector Search"
   ]
  },
  {
   "cell_type": "code",
   "execution_count": null,
   "metadata": {},
   "outputs": [],
   "source": [
    "# Cross-Field Vector Search\n",
    "testQuery = \"tools for software development\"  \n",
    "\n",
    "results = search_client.search(\n",
    "                            search_text=None,\n",
    "                            vector=get_embeddings_from_text(testQuery),\n",
    "                            top_k=1,\n",
    "                            vector_fields=\"title_vector, content_vector\",\n",
    "                            select=[\"title\", \"content\", \"bill_id\"]\n",
    "            )  \n",
    "  \n",
    "for result in results:  \n",
    "    print(f\"Title: {result['title']}\")  \n",
    "    print(f\"Score: {result['@search.score']}\")  \n",
    "    print(f\"Content: {result['content']}\")  \n",
    "    print(f\"Category: {result['bill_id']}\\n\")  \n"
   ]
  },
  {
   "cell_type": "markdown",
   "metadata": {},
   "source": [
    "## Perform a Pure Vector Search with a filter"
   ]
  },
  {
   "cell_type": "code",
   "execution_count": null,
   "metadata": {},
   "outputs": [],
   "source": [
    "# Pure Vector Search with Filter\n",
    "testQuery = \"tools for software development\"  \n",
    "  \n",
    "results = search_client.search(\n",
    "                            search_text=None,\n",
    "                            vector=get_embeddings_from_text(testQuery),\n",
    "                            top_k=1,\n",
    "                            vector_fields=\"content_vector\",\n",
    "                            filter=\"bill_id eq '110_hr37'\",\n",
    "                            select=[\"title\", \"content\", \"bill_id\"]\n",
    "            )  \n",
    "  \n",
    "for result in results:  \n",
    "    print(f\"Title: {result['title']}\")  \n",
    "    print(f\"Score: {result['@search.score']}\")  \n",
    "    print(f\"Content: {result['content']}\")  \n",
    "    print(f\"Category: {result['bill_id']}\\n\")  \n"
   ]
  },
  {
   "cell_type": "markdown",
   "metadata": {},
   "source": [
    "## Perform a Hybrid Search"
   ]
  },
  {
   "cell_type": "code",
   "execution_count": null,
   "metadata": {},
   "outputs": [],
   "source": [
    "# Hybrid Search\n",
    "testQuery = \"scalable storage solution\"\n",
    "  \n",
    "results = search_client.search(\n",
    "                            search_text=testQuery,\n",
    "                            vector=get_embeddings_from_text(testQuery),\n",
    "                            top_k=1,\n",
    "                            vector_fields=\"content_vector\",\n",
    "                            filter=\"bill_id eq '110_hr37'\",\n",
    "                            select=[\"title\", \"content\", \"bill_id\"],\n",
    "                            top=3\n",
    "            )  \n",
    "  \n",
    "for result in results:  \n",
    "    print(f\"Title: {result['title']}\")  \n",
    "    print(f\"Score: {result['@search.score']}\")  \n",
    "    print(f\"Content: {result['content']}\")  \n",
    "    print(f\"Category: {result['bill_id']}\\n\")  \n"
   ]
  },
  {
   "cell_type": "markdown",
   "metadata": {},
   "source": [
    "## Perform a Semantic Hybrid Search"
   ]
  },
  {
   "cell_type": "code",
   "execution_count": null,
   "metadata": {},
   "outputs": [],
   "source": [
    "testQuery = \"scalable storage solution\"\n",
    "\n",
    "from azure_cognitive_search_setup import semantic_search_config_name_from_index_name\n",
    "\n",
    "semantic_config_name = semantic_search_config_name_from_index_name(azureSearchIndexName)\n",
    "\n",
    "results = search_client.search(\n",
    "                            search_text=testQuery,\n",
    "                            vector=get_embeddings_from_text(testQuery),\n",
    "                            top_k=1,\n",
    "                            vector_fields=\"content_vector\",\n",
    "                            filter=\"bill_id eq '110_hr37'\",\n",
    "                            select=[\"title\", \"content\", \"bill_id\"],\n",
    "                            query_type=\"semantic\", \n",
    "                            query_language=\"en-us\", \n",
    "                            semantic_configuration_name=semantic_config_name, \n",
    "                            query_caption=\"extractive\", \n",
    "                            query_answer=\"extractive\",\n",
    "                            top=3\n",
    "            )  \n",
    "  \n",
    "semantic_answers = results.get_answers()\n",
    "for answer in semantic_answers:\n",
    "    if answer.highlights:\n",
    "        print(f\"Semantic Answer: {answer.highlights}\")\n",
    "    else:\n",
    "        print(f\"Semantic Answer: {answer.text}\")\n",
    "    print(f\"Semantic Answer Score: {answer.score}\\n\")\n",
    "\n",
    "for result in results:\n",
    "    print(f\"Title: {result['title']}\")\n",
    "    print(f\"Content: {result['content']}\")\n",
    "    print(f\"Category: {result['bill_id']}\")\n",
    "\n",
    "    captions = result[\"@search.captions\"]\n",
    "    if captions:\n",
    "        caption = captions[0]\n",
    "        if caption.highlights:\n",
    "            print(f\"Caption: {caption.highlights}\\n\")\n",
    "        else:\n",
    "            print(f\"Caption: {caption.text}\\n\")\n"
   ]
  },
  {
   "cell_type": "markdown",
   "metadata": {},
   "source": [
    "## TODO\n",
    "Get the searched text from Azure Cognitive Search and then use it in the prompt for Azure OpenAI"
   ]
  },
  {
   "cell_type": "code",
   "execution_count": null,
   "metadata": {},
   "outputs": [],
   "source": [
    "from azure.search.documents.indexes.models import GetIndexStatisticsResult\n",
    "\n"
   ]
  }
 ],
 "metadata": {
  "kernel_info": {
   "name": "python38-azureml"
  },
  "kernelspec": {
   "display_name": "Python 3 (ipykernel)",
   "language": "python",
   "name": "python3"
  },
  "language_info": {
   "codemirror_mode": {
    "name": "ipython",
    "version": 3
   },
   "file_extension": ".py",
   "mimetype": "text/x-python",
   "name": "python",
   "nbconvert_exporter": "python",
   "pygments_lexer": "ipython3",
   "version": "3.11.0"
  },
  "microsoft": {
   "host": {
    "AzureML": {
     "notebookHasBeenCompleted": true
    }
   },
   "ms_spell_check": {
    "ms_spell_check_language": "en"
   }
  },
  "nteract": {
   "version": "nteract-front-end@1.0.0"
  }
 },
 "nbformat": 4,
 "nbformat_minor": 2
}
