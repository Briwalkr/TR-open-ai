{
 "cells": [
  {
   "cell_type": "markdown",
   "metadata": {
    "nteract": {
     "transient": {
      "deleting": false
     }
    }
   },
   "source": [
    "# Introduction to Prompting\n",
    "\n",
    "## Setup\n",
    "#### Before you start these notebooks, make sure you have the OS environment variables setup. Example provided in the env.bat file for Windows in the root folder. Default variable settings for getting the OpenAI keys from your Azure Key Vault are \n",
    "- PYTHONPATH=%cd%\\AzureOpenAIHelperFunctions\n",
    "- KEY_VAULT_URL=https://\\<YOUR AZURE KEY VAULT NAME\\>.vault.azure.net/\n",
    "- OPENAI_AUTH_TYPE=KeysFromAKVWithCLIAuth\n",
    "#### The different options for OPENAI_AUTH_TYPE are - \n",
    "- KeysFromEnv => get the credentials from OS env\n",
    "- KeysFromAKVWithCLIAuth => get the credentials from Azure Key Vault with CLI Auth\n",
    "- KeysFromAKVWithMI => get the credentials from Azure Key Vault with Managed Identity\n",
    "- KeysFromManagedId => authenticate with Managed Identity and get access to Azure Open AI\n",
    "#### Load the API key and relevant Python libaries."
   ]
  },
  {
   "cell_type": "code",
   "execution_count": 1,
   "metadata": {
    "gather": {
     "logged": 1685732595135
    },
    "jupyter": {
     "outputs_hidden": false,
     "source_hidden": false
    },
    "nteract": {
     "transient": {
      "deleting": false
     }
    }
   },
   "outputs": [
    {
     "name": "stdout",
     "output_type": "stream",
     "text": [
      "Got Azure OpenAI Credentials from Azure Key Vault with Azure CLI Auth\n"
     ]
    }
   ],
   "source": [
    "import openai\n",
    "import sys\n",
    "\n",
    "from azure_openai_setup import set_openai_config, get_completion, COMPLETION_MODEL\n",
    "\n",
    "set_openai_config()"
   ]
  }
 ],
 "metadata": {
  "kernel_info": {
   "name": "python38-azureml"
  },
  "kernelspec": {
   "display_name": "Python 3 (ipykernel)",
   "language": "python",
   "name": "python3"
  },
  "language_info": {
   "codemirror_mode": {
    "name": "ipython",
    "version": 3
   },
   "file_extension": ".py",
   "mimetype": "text/x-python",
   "name": "python",
   "nbconvert_exporter": "python",
   "pygments_lexer": "ipython3",
   "version": "3.11.0"
  },
  "microsoft": {
   "host": {
    "AzureML": {
     "notebookHasBeenCompleted": true
    }
   },
   "ms_spell_check": {
    "ms_spell_check_language": "en"
   }
  },
  "nteract": {
   "version": "nteract-front-end@1.0.0"
  }
 },
 "nbformat": 4,
 "nbformat_minor": 2
}
