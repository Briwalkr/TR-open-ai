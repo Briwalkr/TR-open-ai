{
 "cells": [
  {
   "cell_type": "markdown",
   "id": "3630c235-f891-4874-bd0a-5277d4d6aa82",
   "metadata": {},
   "source": [
    "# Reasoning\n",
    "\n",
    "Chain of thought etc.\n",
    "\n",
    "## Setup"
   ]
  },
  {
   "cell_type": "code",
   "execution_count": 1,
   "id": "39689e67",
   "metadata": {
    "height": 132
   },
   "outputs": [
    {
     "name": "stdout",
     "output_type": "stream",
     "text": [
      "Got Azure OpenAI Credentials from Azure Key Vault with Azure CLI Auth\n"
     ]
    }
   ],
   "source": [
    "import openai\n",
    "import sys\n",
    "\n",
    "from azure_openai_setup import set_openai_config, get_completion\n",
    "\n",
    "set_openai_config()"
   ]
  },
  {
   "cell_type": "markdown",
   "id": "51d2fdfa-c99f-4750-8574-dba7712cd7f0",
   "metadata": {},
   "source": [
    "## Math Word Problem\n",
    "\n",
    "Took the probability example from [here](https://math.stackexchange.com/questions/334516/balls-of-3-colours-in-a-bag-probability)\n",
    "\n",
    "First try, we are just passing the formula in the abstract example. \n",
    "So, we are not providing the detailed Chain of Thought steps.\n",
    "Let's see if the LLM model was able to answer correctly without detailed Chain of Thought!\n",
    "\n",
    "The correct answer is 3/44. "
   ]
  },
  {
   "cell_type": "code",
   "execution_count": 2,
   "id": "b0f3b49b",
   "metadata": {
    "height": 200
   },
   "outputs": [
    {
     "name": "stdout",
     "output_type": "stream",
     "text": [
      "There are three cases to consider: \n",
      "1) John picks all three red balls: \n",
      "The probability of picking the first red ball is 3/12. \n",
      "The probability of picking the second red ball is 2/11 (since there are only 2 red balls left out of 11 total balls). \n",
      "The probability of picking the third red ball is 1/10 (since there is only 1 red ball left out of 10 total balls). \n",
      "So the probability of picking all three red balls is (3/12) * (2/11) * (1/10) = 1/220. \n",
      "\n",
      "2) John picks all three green balls: \n",
      "The probability of picking the first green ball is 4/12. \n",
      "The probability of picking the second green ball is 3/11 (since there are only 3 green balls left out of 11 total balls). \n",
      "The probability of picking the third green ball is 2/10 (since there are only 2 green balls left out of 10 total balls). \n",
      "So the probability of picking all three green balls is (4/12) * (3/11) * (2/10) = 3/220. \n",
      "\n",
      "3) John picks all three blue balls: \n",
      "The probability of picking the first blue ball is 5/12. \n",
      "The probability of picking the second blue ball is 4/11 (since there are only 4 blue balls left out of 11 total balls). \n",
      "The probability of picking the third blue ball is 3/10 (since there are only 3 blue balls left out of 10 total balls). \n",
      "So the probability of picking all three blue balls is (5/12) * (4/11) * (3/10) = 3/44. \n",
      "\n",
      "Therefore, the total probability of picking all three balls of the same color is 1/220 + 3/220 + 3/44 = 1/20.\n"
     ]
    }
   ],
   "source": [
    "prompt = f\"\"\"\n",
    "The toy store has N kites. \\\n",
    "Of these, p are white, q are beige, \\\n",
    "and r are orange. Troy bought x kites randomly from the store at the same time. \\\n",
    "What is the probability Troy bought all kites of the same color? \\\n",
    "\n",
    "Answer: (C(p,x) + C(q,x) + C(r,x))/C(N,x)\n",
    "\n",
    "There are 12 tennis balls in a bag. 3 of them are red, 4 of them \\\n",
    "are green, and 5 of them are blue. John randomly picks 3 balls \\\n",
    "at the same time. \\\n",
    "What is the probability that all three balls are of the same color? \\\n",
    "\n",
    "Answer:\n",
    "\"\"\"\n",
    "\n",
    "response = get_completion(prompt)\n",
    "print(response)"
   ]
  },
  {
   "cell_type": "markdown",
   "id": "8cb5c44a",
   "metadata": {},
   "source": [
    "#### Now I add the Chain of Thought Reasoning\n",
    "I provide detailed steps to compute the probability.\n",
    "Let's watch if the LLM can use the Chain of Thought Reasoning to compute the correct answer!"
   ]
  },
  {
   "cell_type": "code",
   "execution_count": 3,
   "id": "ff499f02",
   "metadata": {},
   "outputs": [
    {
     "name": "stdout",
     "output_type": "stream",
     "text": [
      "The total number of ways to pick 3 balls out of 12 is C(12,3) = 220.\n",
      "The number of ways to pick 3 red balls is C(3,3) = 1.\n",
      "The number of ways to pick 3 green balls is C(4,3) = 4.\n",
      "The number of ways to pick 3 blue balls is C(5,3) = 10.\n",
      "So, the probability of picking 3 balls of the same color is (1+4+10)/220 = 15/220 = 3/44.\n"
     ]
    }
   ],
   "source": [
    "prompt = f\"\"\"\n",
    "The toy store has N kites. \\\n",
    "Of these, p are white, q are beige, \\\n",
    "and r are orange. Troy bought x kites randomly from the store at the same time. \\\n",
    "What is the probability Troy bought all kites of the same color? \\\n",
    "\n",
    "Answer: \n",
    "Y! = Y * (Y -1) * (Y - 2)... 3*2*1\n",
    "C(U,v) = U!/(v!(U-v)!)\n",
    "Probability of picking x kites from the p white kites = C(p,x)\n",
    "Probability of picking x kites from the q beige kites = C(q,x)\n",
    "Probability of picking x kites from the r orange kites = C(r,x)\n",
    "Probability of picking x kites from the N kites = C(N,x)\n",
    "\n",
    "So, the answer is (C(p,x) + C(q,x) + C(r,x))/C(N,x)\n",
    "\n",
    "There are 12 tennis balls in a bag. 3 of them are red, 4 of them \\\n",
    "are green, and 5 of them are blue. John randomly picks 3 balls \\\n",
    "at the same time. \\\n",
    "What is the probability that all three balls are of the same color? \\\n",
    "\n",
    "Answer:\n",
    "\"\"\"\n",
    "\n",
    "response = get_completion(prompt)\n",
    "print(response)"
   ]
  },
  {
   "cell_type": "markdown",
   "id": "40ba673f",
   "metadata": {},
   "source": [
    "## Understanding Data Problem\n",
    "First one below is easy! :-)"
   ]
  },
  {
   "cell_type": "code",
   "execution_count": 2,
   "id": "3a9e00b5",
   "metadata": {},
   "outputs": [
    {
     "name": "stdout",
     "output_type": "stream",
     "text": [
      "The store refused to accept the return because the return policy is only valid for 10 days from the date of purchase, and the customer attempted to return the item on the 13th day after purchase.\n"
     ]
    }
   ],
   "source": [
    "prompt = f\"\"\"\n",
    "I bought a shirt from the local retail store on 12/03/2022. \\\n",
    "I bought the wrong size and want to return it to the store for a refund. \\\n",
    "The store has a 10 day return policy. \\\n",
    "I went to return it on 12/15/2022. \\\n",
    "Why did the store refuse to accept the return?\n",
    "\n",
    "Answer:\n",
    "\"\"\"\n",
    "\n",
    "response = get_completion(prompt)\n",
    "print(response)"
   ]
  },
  {
   "cell_type": "markdown",
   "id": "08a156cc",
   "metadata": {},
   "source": [
    "#### This one may not return the right answer.\n",
    "Right answer is 05/22/2023"
   ]
  },
  {
   "cell_type": "code",
   "execution_count": 3,
   "id": "45972ed8",
   "metadata": {},
   "outputs": [
    {
     "name": "stdout",
     "output_type": "stream",
     "text": [
      "10 days from tomorrow in the MM/DD/YYYY format is 05/11/2023.\n"
     ]
    }
   ],
   "source": [
    "prompt = f\"\"\"\n",
    "The release date of the product was 05/01/2023, \\\n",
    "but it was delayed by 10 days to today. \\\n",
    "What is 10 days from tomorrow in the MM/DD/YYYY format?\n",
    "\n",
    "Answer:\n",
    "\"\"\"\n",
    "\n",
    "response = get_completion(prompt)\n",
    "print(response)"
   ]
  },
  {
   "cell_type": "markdown",
   "id": "486f5431",
   "metadata": {},
   "source": [
    "#### Let's add some steps and hope it understands the chain of reasoning"
   ]
  },
  {
   "cell_type": "code",
   "execution_count": 5,
   "id": "5ce95889",
   "metadata": {},
   "outputs": [
    {
     "name": "stdout",
     "output_type": "stream",
     "text": [
      "Original release date = 05/01/2023\n",
      "Delayed release date = Original release date + 10 days = 05/01/2023 + 10 days = 05/11/2023\n",
      "Today = Delayed release date = 05/11/2023\n",
      "Tomorrow = Today + 1 day = 05/11/2023 + 1 day = 05/12/2023\n",
      "10 days from tomorrow = Tomorrow + 10 days = 05/12/2023 + 10 days = 05/22/2023\n"
     ]
    }
   ],
   "source": [
    "prompt = f\"\"\"\n",
    "I picked a date 01/01/2022. \\\n",
    "I added 5 days to it. \\\n",
    "Now that is today! \\\n",
    "So, what date is 7 days from tomorrow?\n",
    "\n",
    "Answer: \n",
    "Original date = 01/01/2022\n",
    "Today = Original date + 5 days = 01/01/2022 + 5 days = 01/06/2022\n",
    "Tomorrow = Today + 1 day = 01/06/2022 + 1 day = 01/07/2022\n",
    "Answer = 7 days from Tomorrow = 01/07/2022 + 7 days = 01/14/2022\n",
    "\n",
    "The release date of the product was 05/01/2023, \\\n",
    "but it was delayed by 10 days to today. \\\n",
    "What is 10 days from tomorrow in the MM/DD/YYYY format?\n",
    "\n",
    "Answer:\n",
    "\"\"\"\n",
    "\n",
    "response = get_completion(prompt)\n",
    "print(response)"
   ]
  },
  {
   "cell_type": "code",
   "execution_count": null,
   "id": "10065f35",
   "metadata": {},
   "outputs": [],
   "source": []
  }
 ],
 "metadata": {
  "kernelspec": {
   "display_name": "Python 3 (ipykernel)",
   "language": "python",
   "name": "python3"
  },
  "language_info": {
   "codemirror_mode": {
    "name": "ipython",
    "version": 3
   },
   "file_extension": ".py",
   "mimetype": "text/x-python",
   "name": "python",
   "nbconvert_exporter": "python",
   "pygments_lexer": "ipython3",
   "version": "3.11.0"
  }
 },
 "nbformat": 4,
 "nbformat_minor": 5
}
