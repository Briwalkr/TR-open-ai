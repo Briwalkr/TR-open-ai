{
 "cells": [
  {
   "cell_type": "markdown",
   "metadata": {},
   "source": [
    "# Prompt Chunking\n",
    "\n",
    "## Setup\n",
    "#### Follow [README](https://github.com/tirtho/open-ai/blob/main/README.md) and perform setup before running the notebooks\n",
    "\n",
    "Reference : \n",
    "- [Azure Open AI](https://learn.microsoft.com/en-us/azure/cognitive-services/openai/overview)\n",
    "- [NAIC P & C Insurance Industries Full Year Report, 2021](https://content.naic.org/sites/default/files/inline-files/2021%20Annual%20Property%20%26%20Casualty%20and%20Title%20Industry%20Report.pdf)\n",
    "\n",
    "#### Load the API key and relevant Python libaries."
   ]
  },
  {
   "cell_type": "code",
   "execution_count": 1,
   "metadata": {},
   "outputs": [
    {
     "name": "stdout",
     "output_type": "stream",
     "text": [
      "Got Azure OpenAI Credentials from Azure Key Vault with Azure CLI Auth\n"
     ]
    }
   ],
   "source": [
    "import openai\n",
    "import sys\n",
    "\n",
    "from azure_openai_setup import set_openai_config, get_completion\n",
    "\n",
    "set_openai_config()"
   ]
  },
  {
   "cell_type": "markdown",
   "metadata": {},
   "source": [
    "## Chunking\n",
    "Break your large documents into chunks and summarize the individual chunks first. Then create a Summary of the summaries of the individual chunks to get the final Summary."
   ]
  },
  {
   "cell_type": "code",
   "execution_count": 2,
   "metadata": {},
   "outputs": [],
   "source": [
    "IndustryReportPart1 = \"\"\"\n",
    "FINANCIAL RESULTS 2021 (in million dollars, except for percent):\n",
    "- Item | YoY Change | 2021 | 2020\n",
    "- Net Premium Written | 9.2% | 719,815 | 658,913\n",
    "- Net Premiums Earned | 7.4% | 693,664 | 646,014\n",
    "- Net Losses Incurred | 12.8% | 432,474 | 383,308\n",
    "- Loss Expenses Incurred | 1.1% | 70,638 | 69,888\n",
    "- Underwriting Expenses | 5.3% | 189,487 | 179,964\n",
    "- Underwrting Gain (Loss) | NM | (39) | 12,100\n",
    "- Net Loss Ratio | 2.4 pts | 72.5% | 70.2%\n",
    "- Expense Ratio | (1.0) pts | 26.3% | 27.3%\n",
    "- Combined Ratio | 0.9 pts | 99.6% | 98.7%\n",
    "- Net Investment Income Earned | 2.6% | 52,932 | 51,596  \n",
    "- Net Realized Gains (Loss) | 64.5% | 18,200 | 11,064\n",
    "- Net Investment Gain (Loss) | 13.5% | 71,132 | 62,660\n",
    "- Investment Yield | (0.15) pts | 2.60% | 2.75% \n",
    "- Total Other Income | 240.0% | 3,514 | 1,034\n",
    "- Net Income | (4.9%) | 60,537 | 59,196 \n",
    "- Return on Revenue | (0.4) pts | 7.9% | 8.4%\n",
    "- Policyholders' Surplus | 2 12.8% | 1,077,866 | 955,136\n",
    "- Return on Surplus | (0.5) pts | 6.0% | 6.4% \n",
    "\"\"\""
   ]
  },
  {
   "cell_type": "markdown",
   "metadata": {},
   "source": [
    "#### Get Summary of part 1"
   ]
  },
  {
   "cell_type": "code",
   "execution_count": 3,
   "metadata": {},
   "outputs": [
    {
     "name": "stdout",
     "output_type": "stream",
     "text": [
      "The financial results for 2021 show a 9.2% increase in net premium written and a 7.4% increase in net premiums earned compared to the previous year. The company's net loss ratio increased by 2.4 percentage points to 72.5%, while the expense ratio decreased by 1.0 percentage point to 26.3%. The combined ratio increased by 0.9 percentage points to 99.6%. The company's net investment income earned increased by 2.6%, and net realized gains increased by 64.5%. The company's net income decreased by 4.9%, and the return on revenue decreased by 0.4 percentage points to 7.9%. The policyholders' surplus increased by 12.8% to $1,077,866 million, and the return on surplus decreased by 0.5 percentage points to 6.0%.\n"
     ]
    }
   ],
   "source": [
    "prompt = f\"\"\"\n",
    "Create a Summary of the Financial Results section based on the data \\\n",
    "provided in the NAIC Report delimited by triple backticks.\n",
    "\n",
    "The Summary should contain Net Premium Growth between the years, \\\n",
    "performance in Investments, Loss Ratio, Expense Ratio and Combined Ratio\n",
    "\n",
    "NAIC Report: ```{IndustryReportPart1}```\n",
    "\"\"\"\n",
    "\n",
    "response1 = get_completion(prompt)\n",
    "print(response1)"
   ]
  },
  {
   "cell_type": "code",
   "execution_count": 4,
   "metadata": {},
   "outputs": [],
   "source": [
    "IndustryReportPart2 = \"\"\"\n",
    "UNDERWRITING OPERATIONS:\n",
    "Catastrophes\n",
    "According to the National Centers for Environmental\n",
    "Information, National Oceanic and Atmospheric\n",
    "Administration (NOAA), there were 20 weather/climate\n",
    "disaster events with total losses of more than $1 billion in the U.S. in 2021. These events included 11 severe storms, 4\n",
    "tropical cyclones, 2 floods, 1 wildfire event, and 1 winter storm. Overall costs for these events were $148.0 billion. The\n",
    "costliest events are discussed below.\n",
    "\n",
    "INVESTMENT OPERATIONS:\n",
    "Bonds continued to comprise the majority of cash and\n",
    "invested assets accounting for 48.6% of the total at\n",
    "December 31, 2021. However, the low interest rate\n",
    "environment has pressured insurers to seek investment\n",
    "gains through more risky investments. The industry’s\n",
    "cash and invested \n",
    "\n",
    "EMERGING RISKS:\n",
    "Social Inflation\n",
    "Social inflation is a term used to describe the potential for rising insurance claim costs resulting from increased\n",
    "litigation, broader definitions of liability, more plaintiff-friendly legal decisions, and larger compensatory jury\n",
    "awards. Social inflation has the potential to emerge through both traditional product liability exposures (e.g., asbestos\n",
    "or opioids) as well as behavioral liability exposures (e.g., breach of privacy, sexual misconduct, or corporate\n",
    "misconduct). In addition, social inflation exposures can emerge under various lines of coverage (e.g., general liability,\n",
    "products liability, or workers’ compensation).\n",
    "Economic Inflation\n",
    "The U.S. economy has shown signs of rising inflation, with various measures spiking to their highest levels in over forty\n",
    "years. Rising economic inflation in recent months has had impact on loss costs, which could impact reserve adequacy\n",
    "and underwriting profitability for many lines of business. This has been more evident in property coverages as supply\n",
    "chain issues have led to higher costs for building materials, replacement parts, and labor. In addition, rising inflation\n",
    "has the potential to impact the value of a wide range of assets held by insurers, particularly fixed income holdings that\n",
    "are not able to be held to maturity. Finally, inflation has the potential to lead to rapidly rising interest rates, which\n",
    "could drive increased surrender activity, margin calls on certain derivatives, and have other significant life insurance\n",
    "product impacts\n",
    "\"\"\""
   ]
  },
  {
   "cell_type": "markdown",
   "metadata": {},
   "source": [
    "#### Get Summary of part 2"
   ]
  },
  {
   "cell_type": "code",
   "execution_count": 7,
   "metadata": {},
   "outputs": [
    {
     "name": "stdout",
     "output_type": "stream",
     "text": [
      "The NAIC report is divided into three sections: Underwriting Operations, Investment Operations, and Emerging Risks. \n",
      "\n",
      "Underwriting Operations section discusses the impact of catastrophes on the insurance industry in 2021. The report highlights that there were 20 weather/climate disaster events with total losses of more than $1 billion in the U.S. in 2021, costing the industry $148.0 billion. The costliest events are also discussed in this section.\n",
      "\n",
      "The Investment Operations section highlights that bonds continue to comprise the majority of cash and invested assets accounting for 48.6% of the total at December 31, 2021. However, the low interest rate environment has pressured insurers to seek investment gains through more risky investments. The report also discusses the industry's cash and invested assets.\n",
      "\n",
      "The Emerging Risks section discusses two types of inflation that could impact the insurance industry: Social Inflation and Economic Inflation. Social inflation is described as the potential for rising insurance claim costs resulting from increased litigation, broader definitions of liability, more plaintiff-friendly legal decisions, and larger compensatory jury awards. Economic Inflation, on the other hand, is described as the rising inflation in the U.S. economy, which could impact loss costs, reserve adequacy, and underwriting profitability for many lines of business. The report also highlights the potential impacts of inflation on the value of assets held by insurers and life insurance products.\n"
     ]
    }
   ],
   "source": [
    "prompt = f\"\"\"\n",
    "Create a Summary of the Different sections of the report based on the data \\\n",
    "provided in the NAIC Report delimited by triple backticks.\n",
    "\n",
    "The Summary should contain summary of the individual sections. \\\n",
    "\n",
    "NAIC Report: ```{IndustryReportPart2}```\n",
    "\"\"\"\n",
    "\n",
    "response2 = get_completion(prompt)\n",
    "print(response2)"
   ]
  },
  {
   "cell_type": "markdown",
   "metadata": {},
   "source": [
    "#### Now get the final Summary of the two Summaries"
   ]
  },
  {
   "cell_type": "code",
   "execution_count": 8,
   "metadata": {},
   "outputs": [
    {
     "name": "stdout",
     "output_type": "stream",
     "text": [
      "The financial results for 2021 show an increase in net premium written and net premiums earned, but a decrease in net income and return on revenue. The NAIC report discusses the impact of catastrophes on the insurance industry, the industry's investment operations, and emerging risks such as social and economic inflation. The report highlights the potential impacts of inflation on loss costs, reserve adequacy, underwriting profitability, and the value of assets held by insurers and life insurance products.\n"
     ]
    }
   ],
   "source": [
    "prompt = f\"\"\"\n",
    "Create a Summary from the contents in response1 and response2, each delimited by triple backticks.\n",
    "\n",
    "```{response1}```\n",
    "\n",
    "```{response2}```\n",
    "\"\"\"\n",
    "\n",
    "response = get_completion(prompt)\n",
    "print(response)"
   ]
  },
  {
   "cell_type": "markdown",
   "metadata": {},
   "source": [
    "#### Now get the Summary of the entire text in one go and then compare with the above\n",
    "It will be great to use Embeddings to compare if the two are confirmed similar!"
   ]
  },
  {
   "cell_type": "code",
   "execution_count": 9,
   "metadata": {},
   "outputs": [
    {
     "name": "stdout",
     "output_type": "stream",
     "text": [
      "The NAIC Report for 2021 shows an increase in net premiums written and earned, as well as net losses incurred and underwriting expenses. The net loss ratio increased by 2.4 points, while the expense ratio decreased by 1 point. Catastrophes, including severe storms and wildfires, resulted in losses of $148 billion. Bonds continue to comprise the majority of cash and invested assets, but the low interest rate environment has led insurers to seek investment gains through riskier investments. Emerging risks include social inflation, which could result in rising insurance claim costs, and economic inflation, which could impact reserve adequacy and underwriting profitability.\n"
     ]
    }
   ],
   "source": [
    "IndustryReport = \"\"\"\n",
    "FINANCIAL RESULTS 2021 (in million dollars, except for percent):\n",
    "- Item | YoY Change | 2021 | 2020\n",
    "- Net Premium Written | 9.2% | 719,815 | 658,913\n",
    "- Net Premiums Earned | 7.4% | 693,664 | 646,014\n",
    "- Net Losses Incurred | 12.8% | 432,474 | 383,308\n",
    "- Loss Expenses Incurred | 1.1% | 70,638 | 69,888\n",
    "- Underwriting Expenses | 5.3% | 189,487 | 179,964\n",
    "- Underwrting Gain (Loss) | NM | (39) | 12,100\n",
    "- Net Loss Ratio | 2.4 pts | 72.5% | 70.2%\n",
    "- Expense Ratio | (1.0) pts | 26.3% | 27.3%\n",
    "- Combined Ratio | 0.9 pts | 99.6% | 98.7%\n",
    "- Net Investment Income Earned | 2.6% | 52,932 | 51,596  \n",
    "- Net Realized Gains (Loss) | 64.5% | 18,200 | 11,064\n",
    "- Net Investment Gain (Loss) | 13.5% | 71,132 | 62,660\n",
    "- Investment Yield | (0.15) pts | 2.60% | 2.75% \n",
    "- Total Other Income | 240.0% | 3,514 | 1,034\n",
    "- Net Income | (4.9%) | 60,537 | 59,196 \n",
    "- Return on Revenue | (0.4) pts | 7.9% | 8.4%\n",
    "- Policyholders' Surplus | 2 12.8% | 1,077,866 | 955,136\n",
    "- Return on Surplus | (0.5) pts | 6.0% | 6.4% \n",
    "\n",
    "UNDERWRITING OPERATIONS:\n",
    "Catastrophes\n",
    "According to the National Centers for Environmental\n",
    "Information, National Oceanic and Atmospheric\n",
    "Administration (NOAA), there were 20 weather/climate\n",
    "disaster events with total losses of more than $1 billion in the U.S. in 2021. These events included 11 severe storms, 4\n",
    "tropical cyclones, 2 floods, 1 wildfire event, and 1 winter storm. Overall costs for these events were $148.0 billion. The\n",
    "costliest events are discussed below.\n",
    "\n",
    "INVESTMENT OPERATIONS:\n",
    "Bonds continued to comprise the majority of cash and\n",
    "invested assets accounting for 48.6% of the total at\n",
    "December 31, 2021. However, the low interest rate\n",
    "environment has pressured insurers to seek investment\n",
    "gains through more risky investments. The industry’s\n",
    "cash and invested \n",
    "\n",
    "EMERGING RISKS:\n",
    "Social Inflation\n",
    "Social inflation is a term used to describe the potential for rising insurance claim costs resulting from increased\n",
    "litigation, broader definitions of liability, more plaintiff-friendly legal decisions, and larger compensatory jury\n",
    "awards. Social inflation has the potential to emerge through both traditional product liability exposures (e.g., asbestos\n",
    "or opioids) as well as behavioral liability exposures (e.g., breach of privacy, sexual misconduct, or corporate\n",
    "misconduct). In addition, social inflation exposures can emerge under various lines of coverage (e.g., general liability,\n",
    "products liability, or workers’ compensation).\n",
    "Economic Inflation\n",
    "The U.S. economy has shown signs of rising inflation, with various measures spiking to their highest levels in over forty\n",
    "years. Rising economic inflation in recent months has had impact on loss costs, which could impact reserve adequacy\n",
    "and underwriting profitability for many lines of business. This has been more evident in property coverages as supply\n",
    "chain issues have led to higher costs for building materials, replacement parts, and labor. In addition, rising inflation\n",
    "has the potential to impact the value of a wide range of assets held by insurers, particularly fixed income holdings that\n",
    "are not able to be held to maturity. Finally, inflation has the potential to lead to rapidly rising interest rates, which\n",
    "could drive increased surrender activity, margin calls on certain derivatives, and have other significant life insurance\n",
    "product impacts\n",
    "\"\"\"\n",
    "\n",
    "prompt = f\"\"\"\n",
    "Create a Summary from the contents in IndustryReport delimited by triple backticks.\n",
    "\n",
    "NAIC Report: ```{IndustryReport}```\n",
    "\"\"\"\n",
    "\n",
    "response = get_completion(prompt)\n",
    "print(response)"
   ]
  },
  {
   "cell_type": "markdown",
   "metadata": {},
   "source": [
    "## To Do Exercise\n",
    "Try to create the summary of the summaries of the chunks and a summary of the entire text and use embeddings to compare results and check if these two summaries (one direct and the other obtained via chunking) are similar!"
   ]
  },
  {
   "cell_type": "code",
   "execution_count": null,
   "metadata": {},
   "outputs": [],
   "source": []
  }
 ],
 "metadata": {
  "kernelspec": {
   "display_name": "Python 3 (ipykernel)",
   "language": "python",
   "name": "python3"
  },
  "language_info": {
   "codemirror_mode": {
    "name": "ipython",
    "version": 3
   },
   "file_extension": ".py",
   "mimetype": "text/x-python",
   "name": "python",
   "nbconvert_exporter": "python",
   "pygments_lexer": "ipython3",
   "version": "3.11.0"
  }
 },
 "nbformat": 4,
 "nbformat_minor": 2
}
