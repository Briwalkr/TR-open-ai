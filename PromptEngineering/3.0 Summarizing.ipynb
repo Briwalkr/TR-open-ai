{
 "cells": [
  {
   "cell_type": "markdown",
   "id": "9953aa8a",
   "metadata": {},
   "source": [
    "# Summarization\n",
    "\n",
    "## Setup\n",
    "#### Read instructions from https://github.com/tirtho/open-ai/blob/main/README.md and perform setup before running the notebooks\n",
    "#### Load the API key and relevant Python libaries."
   ]
  },
  {
   "cell_type": "code",
   "execution_count": 1,
   "id": "9b13648d",
   "metadata": {},
   "outputs": [
    {
     "name": "stdout",
     "output_type": "stream",
     "text": [
      "Got Azure OpenAI Credentials from Azure Key Vault with Azure CLI Auth\n"
     ]
    }
   ],
   "source": [
    "import openai\n",
    "import sys\n",
    "\n",
    "from azure_openai_setup import set_openai_config, get_completion\n",
    "\n",
    "set_openai_config()"
   ]
  },
  {
   "cell_type": "markdown",
   "id": "81116ff7",
   "metadata": {},
   "source": [
    "## Simple Summary"
   ]
  },
  {
   "cell_type": "code",
   "execution_count": 28,
   "id": "c0004c6a",
   "metadata": {},
   "outputs": [
    {
     "name": "stdout",
     "output_type": "stream",
     "text": [
      "Peter and Elizabeth attended a night party in the city by taking a taxi. Elizabeth collapsed during the party and was taken to the hospital while Peter returned to the party later.\n"
     ]
    }
   ],
   "source": [
    "news_item = f\"\"\"\n",
    "Peter and Elizabeth took a taxi to attend the night party in the city. \\\n",
    "They partied for quite some time. \\\n",
    "There they met with many others. \\\n",
    "While in the party, Elizabeth collapsed and was rushed to the hospital.\n",
    "Later, Peter went back to the party hall.\n",
    "\"\"\"\n",
    "\n",
    "prompt = f\"\"\"\n",
    "Summarize the news_item below delimited by triple backticks.\n",
    "\n",
    "```{news_item}```\n",
    "\"\"\"\n",
    "\n",
    "response = get_completion(prompt)\n",
    "print(response)"
   ]
  },
  {
   "cell_type": "markdown",
   "id": "69efdef1",
   "metadata": {},
   "source": [
    "## Summarize with a word/sentence/character limit"
   ]
  },
  {
   "cell_type": "code",
   "execution_count": 2,
   "id": "b4079255",
   "metadata": {},
   "outputs": [
    {
     "name": "stdout",
     "output_type": "stream",
     "text": [
      "Peter and Elizabeth attended a party, Elizabeth collapsed and was taken to the hospital, Peter returned to the party.\n"
     ]
    }
   ],
   "source": [
    "news_item = f\"\"\"\n",
    "Peter and Elizabeth took a taxi to attend the night party in the city. \\\n",
    "They partied for quite some time. \\\n",
    "There they met with many others. \\\n",
    "While in the party, Elizabeth collapsed and was rushed to the hospital.\n",
    "Later, Peter went back to the party hall.\n",
    "\"\"\"\n",
    "\n",
    "prompt = f\"\"\"\n",
    "Summarize the news_item below delimited by triple backticks, in at most 20 words.\n",
    "\n",
    "```{news_item}```\n",
    "\"\"\"\n",
    "\n",
    "response = get_completion(prompt)\n",
    "print(response)"
   ]
  },
  {
   "cell_type": "markdown",
   "id": "3aeec0d9",
   "metadata": {},
   "source": [
    "## Summarize in a more natural conversational language"
   ]
  },
  {
   "cell_type": "code",
   "execution_count": 7,
   "id": "18951608",
   "metadata": {},
   "outputs": [
    {
     "name": "stdout",
     "output_type": "stream",
     "text": [
      "Peter and Elizabeth went to a night party in the city by taking a taxi. They enjoyed the party and met many people. However, Elizabeth suddenly collapsed and had to be taken to the hospital. Peter went back to the party hall after Elizabeth was taken to the hospital.\n"
     ]
    }
   ],
   "source": [
    "news_item = f\"\"\"\n",
    "Peter and Elizabeth took a taxi to attend the night party in the city. \\\n",
    "They partied for quite some time. \\\n",
    "There they met with many others. \\\n",
    "While in the party, Elizabeth collapsed and was rushed to the hospital.\n",
    "Later, Peter went back to the party hall.\n",
    "\"\"\"\n",
    "\n",
    "prompt = f\"\"\"\n",
    "Summarize the news_item below delimited by triple backticks, using natural language generation techniques.\n",
    "\n",
    "```{news_item}```\n",
    "\"\"\"\n",
    "\n",
    "response = get_completion(prompt)\n",
    "print(response)"
   ]
  },
  {
   "cell_type": "markdown",
   "id": "c1a451cf",
   "metadata": {},
   "source": [
    "## Extraction versus Summarization"
   ]
  },
  {
   "cell_type": "code",
   "execution_count": 8,
   "id": "5fe0a315",
   "metadata": {},
   "outputs": [
    {
     "name": "stdout",
     "output_type": "stream",
     "text": [
      "- Name: Elizabeth\n",
      "- Attended a night party in the city with Peter\n",
      "- Collapsed during the party and was rushed to the hospital\n"
     ]
    }
   ],
   "source": [
    "news_item = f\"\"\"\n",
    "Peter and Elizabeth took a taxi to attend the night party in the city. \\\n",
    "They partied for quite some time. \\\n",
    "There they met with many others. \\\n",
    "While in the party, Elizabeth collapsed and was rushed to the hospital. \\\n",
    "Later, Peter went back to the party hall.\n",
    "\"\"\"\n",
    "\n",
    "prompt = f\"\"\"\n",
    "Extract information relevant to Elizabeth from the news_item below, delimited by triple backticks.\n",
    "\n",
    "```{news_item}```\n",
    "\"\"\"\n",
    "\n",
    "response = get_completion(prompt)\n",
    "print(response)"
   ]
  },
  {
   "cell_type": "markdown",
   "id": "c124b9f6",
   "metadata": {},
   "source": [
    "## Summarize from a call center chat (Abstractive Summarization)"
   ]
  },
  {
   "cell_type": "code",
   "execution_count": 9,
   "id": "99ad4e80",
   "metadata": {},
   "outputs": [
    {
     "name": "stdout",
     "output_type": "stream",
     "text": [
      "The customer, Peter Smith, called ADM with questions about payroll processing for his small business. The agent asked for some information before answering his questions and mentioned that certain aspects of payroll processing are regulated by the IRS and DOL.\n"
     ]
    }
   ],
   "source": [
    "chat = f\"\"\"\n",
    "Agent: Thank you for calling ADM. Who am I am speaking to? \n",
    "Customer: Hello, my name is Peter Smith. I own a small business and have some questions regarding payroll processing. \n",
    "Agent: Good morning, Peter, before we get started may I ask you a few questions so that I better answer your questions today? \n",
    "Customer: Thank you that is quite helpful. Are there specific regulations that I need to follow? \n",
    "Agent: Certain aspects of payroll processing are regulated by the Internal Revenue Service (IRS) and the Department of Labor (DOL)\n",
    "\n",
    "\"\"\"\n",
    "\n",
    "prompt = f\"\"\"\n",
    "Summarize this chat delimited by triple backticks, for a call center agent:\n",
    "\n",
    "```{chat}```\n",
    "\"\"\"\n",
    "\n",
    "response = get_completion(prompt)\n",
    "print(response)"
   ]
  }
 ],
 "metadata": {
  "kernelspec": {
   "display_name": "Python 3 (ipykernel)",
   "language": "python",
   "name": "python3"
  },
  "language_info": {
   "codemirror_mode": {
    "name": "ipython",
    "version": 3
   },
   "file_extension": ".py",
   "mimetype": "text/x-python",
   "name": "python",
   "nbconvert_exporter": "python",
   "pygments_lexer": "ipython3",
   "version": "3.11.0"
  }
 },
 "nbformat": 4,
 "nbformat_minor": 5
}
