{
 "cells": [
  {
   "cell_type": "markdown",
   "id": "8de529e8-3891-4f47-8585-65b92b80bbf7",
   "metadata": {},
   "source": [
    "# Expanding\n",
    "\n",
    "Some of the use cases are:\n",
    "- Generate email\n",
    "- Generate marketing advertisement\n",
    "- Recommendation\n",
    "\n",
    "\n",
    "## Setup\n",
    "#### Read instructions from https://github.com/tirtho/open-ai/blob/main/README.md and perform setup before running the notebooks\n",
    "#### Load the API key and relevant Python libaries."
   ]
  },
  {
   "cell_type": "code",
   "execution_count": 1,
   "id": "e23399a9",
   "metadata": {},
   "outputs": [
    {
     "name": "stdout",
     "output_type": "stream",
     "text": [
      "Got Azure OpenAI Credentials from Azure Key Vault with Azure CLI Auth\n"
     ]
    }
   ],
   "source": [
    "import openai\n",
    "import sys\n",
    "\n",
    "from azure_openai_setup import set_openai_config, get_completion\n",
    "\n",
    "set_openai_config()"
   ]
  },
  {
   "cell_type": "markdown",
   "id": "f8ceea77-990a-4c64-bb49-3ba65eb155d2",
   "metadata": {},
   "source": [
    "## Generate automated reply to an email from Underwriting to Insurance Agent"
   ]
  },
  {
   "cell_type": "code",
   "execution_count": 3,
   "id": "9bdbebc7",
   "metadata": {},
   "outputs": [
    {
     "name": "stdout",
     "output_type": "stream",
     "text": [
      "Dear Insurance Agent,\n",
      "\n",
      "Thank you for submitting Mary's insurance renewal. We appreciate your business and the opportunity to serve your customer.\n",
      "\n",
      "Upon review of Mary's past insurance records, we have decided to offer her two options for her renewal. We agree to offer her full coverage, but it will increase her deductible to $500. Alternatively, she can renew the policy with limited glass coverage.\n",
      "\n",
      "We understand that this may be a new condition for Mary, but the risk of insuring her is higher now due to the past incidents. These two options will help us provide Mary with the other coverage she needs, such as liability and collision insurance.\n",
      "\n",
      "Thank you again for bringing in Mary as a customer. If you have any questions, please do not hesitate to reach out to Underwriting.\n",
      "\n",
      "Best regards,\n",
      "\n",
      "Underwriting AI Agent\n"
     ]
    }
   ],
   "source": [
    "underwriter_review = f\"\"\"\n",
    "Past Insurance records on file for Mary:\n",
    "1. Mary has made three glass claims on her car insurance policy in the past five years. \\\n",
    "2. Otherwise, she has a perfect driving record. \\\n",
    "3. We paid $1,500 in glass claims in the past five years, but Mary paid only $300 per year for glass coverage. \\\n",
    "4. Her deductible as of now is only $100. \\\n",
    "\n",
    "Decision upon review by underwriter:\n",
    "1. New conditions to Mary upon her renewal. \n",
    "2. We agree to offer her full coverage, but it will increase her deductible to $500.\n",
    "3. Another alternative option will be to renew the policy with limited glass coverage.\n",
    "\n",
    "Explanation of the underwriter's decision:\n",
    "1. The risk of insuring Mary is higher now due to the past incidents.\n",
    "2. The two options will help us providing Mary with the other coverage she needs, such as liability and collision insurance.\n",
    "\"\"\"\n",
    "\n",
    "prompt = f\"\"\"\n",
    "Your task is to send an email to the Insurance Agent \\\n",
    "and convey the outcome of the underwriter's review comments \\\n",
    "about the Agent's customer, Mary's insurance renewal decision.\n",
    "The underwriter review is below delimited by ```.\n",
    "\n",
    "Generate a reply to thank the Insurance Agent for \\\n",
    "submitting the insurance renewal for Mary, the customer.\n",
    "If the sentiment is positive or neutral, thank the Agent for bringing in the customer.\n",
    "If the sentiment is negative, apologize and suggest that \\\n",
    "they can reach out to Underwriting for any questions. \n",
    "Make sure to use specific details from the review.\n",
    "Write in a concise and professional tone.\n",
    "Sign the email as `Underwriting AI Agent`.\n",
    "Underwriter review: ```{underwriter_review}```\n",
    "\"\"\"\n",
    "response = get_completion(prompt)\n",
    "print(response)"
   ]
  },
  {
   "cell_type": "markdown",
   "id": "fb784252",
   "metadata": {},
   "source": [
    "## Generate Marketing Content for Auto Insurance"
   ]
  },
  {
   "cell_type": "code",
   "execution_count": 5,
   "id": "3726c6b7",
   "metadata": {},
   "outputs": [
    {
     "name": "stdout",
     "output_type": "stream",
     "text": [
      "Introducing Responsible Insurance Inc. - the insurance company that cares. \n",
      "\n",
      "At Responsible Insurance Inc., we understand that insurance can be a daunting and stressful process. That's why we offer coverage with compassion and empathy, ensuring that our customers feel supported and valued every step of the way. \n",
      "\n",
      "Don't just take our word for it - our customers rate us 'Excellent' on Insurance Review (January 2023 issue) and we rank highest in Customer Satisfaction by a Consumer Research Poll (Nov 4, 2022). \n",
      "\n",
      "We're not just a feel-good insurance company - we're also one of the top 3 Auto Insurance Companies of 2022 (Forbes Media LLC, Sept 4, 2021) and a Leader in 2023 Gartner Magic Quadrant for P&C Insurance. \n",
      "\n",
      "With over 110 years of experience, we've helped countless people and have become a trusted name in the industry. And with our commitment to providing more ways to save on insurance, you can rest assured that you're getting the best deal possible. In fact, you'll pay at least 20% less when insuring your car with us. \n",
      "\n",
      "Ready to insure your car with us? It's just 3 clicks away. Join the Responsible Insurance Inc. family today and experience the difference that compassion, empathy, and expertise can make.\n"
     ]
    }
   ],
   "source": [
    "highlights = f\"\"\"\n",
    "Our coverage is with compassion and empathy.\n",
    "Our customers rate us 'Excellent' on Insurance Review (January 2023 issue).\n",
    "We rank highest in Customer Satisfaction by a Consumer Research Poll (Nov 4, 2022)\n",
    "We are ranked as one of the top 3 Auto Insurance Companies of 2022 (Forbes Media LLC, Sept 4, 2021).\n",
    "We are a Leader in 2023 Gartner Magic Quadrant for P&C Insurance.\n",
    "We are helping people for over 110 years making us a trusted name in the industry.\n",
    "We provide you more ways to save on insurance. You pay at least 20% less when insuring your car with us.\n",
    "Is is just 3 clicks away to insure your car today with us.\n",
    "\"\"\"\n",
    "\n",
    "prompt = f\"\"\"\n",
    "Your task is to generate a marketing campaign for Responsible Insurance Inc. \\\n",
    "based on the following highlights of our organization delimited by ```.\n",
    "\n",
    "```{highlights}```\n",
    "\"\"\"\n",
    "\n",
    "response = get_completion(prompt)\n",
    "print(response)"
   ]
  },
  {
   "cell_type": "markdown",
   "id": "340b8d9f",
   "metadata": {},
   "source": [
    "#### Generate a more catchy short campaign"
   ]
  },
  {
   "cell_type": "code",
   "execution_count": 15,
   "id": "29b71a9b",
   "metadata": {},
   "outputs": [
    {
     "name": "stdout",
     "output_type": "stream",
     "text": [
      "\"Experience compassionate coverage and save 20% today with us.\"\n"
     ]
    }
   ],
   "source": [
    "highlights = f\"\"\"\n",
    "Our coverage is with compassion and empathy.\n",
    "Our customers rate us 'Excellent' on Insurance Review (January 2023 issue).\n",
    "We rank highest in Customer Satisfaction by a Consumer Research Poll (Nov 4, 2022)\n",
    "We are ranked as one of the top 3 Auto Insurance Companies of 2022 (Forbes Media LLC, Sept 4, 2021).\n",
    "We are a Leader in 2023 Gartner Magic Quadrant for P&C Insurance.\n",
    "We are helping people for over 110 years making us a trusted name in the industry.\n",
    "We provide you more ways to save on insurance. You pay at least 20% less when insuring your car with us.\n",
    "Is is just 3 clicks away to insure your car today with us.\n",
    "\"\"\"\n",
    "\n",
    "prompt = f\"\"\"\n",
    "Your task is to generate a marketing campaign in 10 words, for Responsible Insurance Inc. \\\n",
    "based on the following highlights of our organization delimited by ```.\n",
    "\n",
    "```{highlights}```\n",
    "\"\"\"\n",
    "\n",
    "response = get_completion(prompt=prompt, temperature=0.7)\n",
    "print(response)"
   ]
  },
  {
   "cell_type": "markdown",
   "id": "cfc3e709",
   "metadata": {},
   "source": [
    "## Product Recommendation (Few-Shot)"
   ]
  },
  {
   "cell_type": "code",
   "execution_count": 17,
   "id": "41bfd0f1",
   "metadata": {},
   "outputs": [
    {
     "name": "stdout",
     "output_type": "stream",
     "text": [
      "Recommendation: pants or shorts\n"
     ]
    }
   ],
   "source": [
    "prompt = f\"\"\"\n",
    "Generate product recommendations:\n",
    "\n",
    "Product: table, chair, plate\n",
    "Recommendation: utensils\n",
    "###\n",
    "Product: skis, skateboard, bike\n",
    "Recommendation: golf clubs\n",
    "###\n",
    "Product: shoes, shirt, hat\n",
    "\"\"\"\n",
    "\n",
    "response = get_completion(prompt=prompt, temperature=1)\n",
    "print(response)"
   ]
  },
  {
   "cell_type": "code",
   "execution_count": null,
   "id": "9f9a5d89",
   "metadata": {},
   "outputs": [],
   "source": []
  }
 ],
 "metadata": {
  "kernelspec": {
   "display_name": "Python 3 (ipykernel)",
   "language": "python",
   "name": "python3"
  },
  "language_info": {
   "codemirror_mode": {
    "name": "ipython",
    "version": 3
   },
   "file_extension": ".py",
   "mimetype": "text/x-python",
   "name": "python",
   "nbconvert_exporter": "python",
   "pygments_lexer": "ipython3",
   "version": "3.11.0"
  }
 },
 "nbformat": 4,
 "nbformat_minor": 5
}
