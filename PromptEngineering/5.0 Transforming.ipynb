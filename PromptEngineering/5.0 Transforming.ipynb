{
 "cells": [
  {
   "cell_type": "markdown",
   "id": "e3993515-9710-4ac4-89e9-b35ebb81e920",
   "metadata": {
    "id": "rhqRhkElpJ0z"
   },
   "source": [
    "# Transforming\n",
    "\n",
    "Explore\n",
    "- language translation, \n",
    "- spelling and grammar checking, \n",
    "- tone adjustment, and \n",
    "- format conversion.\n",
    "\n",
    "## Setup\n",
    "#### Read instructions from https://github.com/tirtho/open-ai/blob/main/README.md and perform setup before running the notebooks\n",
    "#### Load the API key and relevant Python libaries."
   ]
  },
  {
   "cell_type": "code",
   "execution_count": 1,
   "id": "41df0348",
   "metadata": {
    "tags": []
   },
   "outputs": [
    {
     "name": "stdout",
     "output_type": "stream",
     "text": [
      "Got Azure OpenAI Credentials from Azure Key Vault with Azure CLI Auth\n"
     ]
    }
   ],
   "source": [
    "import openai\n",
    "import sys\n",
    "\n",
    "from azure_openai_setup import set_openai_config, get_completion\n",
    "\n",
    "set_openai_config()"
   ]
  },
  {
   "cell_type": "markdown",
   "id": "1d8f0bd8-628e-4c36-bcd0-2110162f25fc",
   "metadata": {
    "id": "zdxC4c6pwqA5"
   },
   "source": [
    "## Translation\n",
    "#### Translate"
   ]
  },
  {
   "cell_type": "code",
   "execution_count": 3,
   "id": "9c4df6ff",
   "metadata": {
    "tags": []
   },
   "outputs": [
    {
     "name": "stdout",
     "output_type": "stream",
     "text": [
      "Spanish:\n",
      "Formal: ¿Desea comprar un seguro de auto para su nuevo coche?\n",
      "Informal: ¿Quieres comprar un seguro de auto para tu coche nuevo?\n",
      "\n",
      "Bengali:\n",
      "Formal: আপনি আপনার নতুন গাড়ির জন্য অটো ইনস্যুরেন্স কিনতে চান?\n",
      "Informal: তুমি কি তোমার নতুন গাড়ির জন্য অটো ইনস্যুরেন্স কিনতে চাও?\n"
     ]
    }
   ],
   "source": [
    "prompt = f\"\"\"\n",
    "Translate the following text to Spanish and Bengali in both the \\\n",
    "formal and informal forms: \n",
    "'Would you like to order a pillow?'\n",
    "\"\"\"\n",
    "response = get_completion(prompt)\n",
    "print(response)"
   ]
  },
  {
   "cell_type": "markdown",
   "id": "291729c8",
   "metadata": {},
   "source": [
    "#### Detect Language"
   ]
  },
  {
   "cell_type": "code",
   "execution_count": 6,
   "id": "813f75ee",
   "metadata": {},
   "outputs": [
    {
     "name": "stdout",
     "output_type": "stream",
     "text": [
      "Bengali.\n"
     ]
    }
   ],
   "source": [
    "text = f\"\"\"\n",
    "আমার মাউস কাজ করছে না।\n",
    "\"\"\"\n",
    "prompt = f\"\"\"\n",
    "Detect the language of the text below in at most two words: \n",
    "```{text}```\"\n",
    "\"\"\"\n",
    "response = get_completion(prompt)\n",
    "print(response)\n"
   ]
  },
  {
   "cell_type": "markdown",
   "id": "1d9e54ca-f93a-43c8-a295-bff7a89f77f5",
   "metadata": {
    "id": "JH3-0vdjsILh"
   },
   "source": [
    "#### Change from slang to formal"
   ]
  },
  {
   "cell_type": "code",
   "execution_count": 9,
   "id": "2deac328",
   "metadata": {
    "tags": []
   },
   "outputs": [
    {
     "name": "stdout",
     "output_type": "stream",
     "text": [
      "Dear Sir/Madam,\n",
      "\n",
      "I am writing to inform you of the impressive security features of Azure OpenAI. As we plan to develop an exceptional application utilizing its APIs, I highly recommend that you take a closer look at this platform.\n",
      "\n",
      "Thank you for your time and consideration.\n",
      "\n",
      "Sincerely,\n",
      "\n",
      "Joe\n"
     ]
    }
   ],
   "source": [
    "prompt = f\"\"\"\n",
    "Translate the following from slang to a business letter: \n",
    "'Hey Dude, This is Joe. Check out the security features of Azure OpenAI. \\\n",
    "We are gonna build a killer app using its APIs.'\n",
    "\"\"\"\n",
    "response = get_completion(prompt)\n",
    "print(response)"
   ]
  },
  {
   "cell_type": "markdown",
   "id": "a2c7eb73-6b82-442d-b4f8-251c308e89d5",
   "metadata": {
    "id": "p3e9sZh5tWIa"
   },
   "source": [
    "## Conversion\n",
    "#### json to html table"
   ]
  },
  {
   "cell_type": "code",
   "execution_count": 11,
   "id": "5a37f0a0",
   "metadata": {
    "tags": []
   },
   "outputs": [
    {
     "name": "stdout",
     "output_type": "stream",
     "text": [
      "<table>\n",
      "  <caption>Restaurant Employees</caption>\n",
      "  <thead>\n",
      "    <tr>\n",
      "      <th>Name</th>\n",
      "      <th>Email</th>\n",
      "    </tr>\n",
      "  </thead>\n",
      "  <tbody>\n",
      "    <tr>\n",
      "      <td>Hari Hansenn</td>\n",
      "      <td>hhansen@gmail.com</td>\n",
      "    </tr>\n",
      "    <tr>\n",
      "      <td>Bob The Builder</td>\n",
      "      <td>bob32@gmail.com</td>\n",
      "    </tr>\n",
      "    <tr>\n",
      "      <td>Nathan Dan</td>\n",
      "      <td>ndan@gmail.com</td>\n",
      "    </tr>\n",
      "  </tbody>\n",
      "</table>\n"
     ]
    }
   ],
   "source": [
    "contact_json = { \"resturant employees\" :[ \n",
    "    {\"name\":\"Hari Hansenn\", \"email\":\"hhansen@gmail.com\"},\n",
    "    {\"name\":\"Bob The Builder\", \"email\":\"bob32@gmail.com\"},\n",
    "    {\"name\":\"Nathan Dan\", \"email\":\"ndan@gmail.com\"}\n",
    "]}\n",
    "\n",
    "prompt = f\"\"\"\n",
    "Translate the following python dictionary from JSON to an HTML \\\n",
    "table with column headers and title: {contact_json}\n",
    "\"\"\"\n",
    "response = get_completion(prompt)\n",
    "print(response)"
   ]
  },
  {
   "cell_type": "markdown",
   "id": "dcb7681b",
   "metadata": {},
   "source": [
    "#### Display in html"
   ]
  },
  {
   "cell_type": "code",
   "execution_count": 12,
   "id": "481a46b7",
   "metadata": {
    "tags": []
   },
   "outputs": [
    {
     "data": {
      "text/html": [
       "<table>\n",
       "  <caption>Restaurant Employees</caption>\n",
       "  <thead>\n",
       "    <tr>\n",
       "      <th>Name</th>\n",
       "      <th>Email</th>\n",
       "    </tr>\n",
       "  </thead>\n",
       "  <tbody>\n",
       "    <tr>\n",
       "      <td>Hari Hansenn</td>\n",
       "      <td>hhansen@gmail.com</td>\n",
       "    </tr>\n",
       "    <tr>\n",
       "      <td>Bob The Builder</td>\n",
       "      <td>bob32@gmail.com</td>\n",
       "    </tr>\n",
       "    <tr>\n",
       "      <td>Nathan Dan</td>\n",
       "      <td>ndan@gmail.com</td>\n",
       "    </tr>\n",
       "  </tbody>\n",
       "</table>"
      ],
      "text/plain": [
       "<IPython.core.display.HTML object>"
      ]
     },
     "metadata": {},
     "output_type": "display_data"
    }
   ],
   "source": [
    "from IPython.display import display, Markdown, Latex, HTML, JSON\n",
    "display(HTML(response))"
   ]
  },
  {
   "cell_type": "markdown",
   "id": "2df1824c-534b-45cb-b0c1-3000bba5adbe",
   "metadata": {
    "id": "qLTz16qEzyT_"
   },
   "source": [
    "## Spellcheck/Grammar check.\n",
    "\n",
    "Here are some examples of common grammar and spelling problems and the LLM's response. \n",
    "\n",
    "To signal to the LLM that you want it to proofread your text, you instruct the model to 'proofread' or 'proofread and correct'."
   ]
  },
  {
   "cell_type": "code",
   "execution_count": 18,
   "id": "52d77283",
   "metadata": {
    "tags": []
   },
   "outputs": [
    {
     "name": "stdout",
     "output_type": "stream",
     "text": [
      "The company is doing well in their business.\n",
      "No errors found.\n",
      "Their goes my freedom. There going to bring they're suitcases.\n",
      "\n",
      "Corrected version: \n",
      "There goes my freedom. They're going to bring their suitcases.\n",
      "You're going to need your wallet.\n",
      "This phrase is to verify ChatGPT for spelling ability.\n",
      "\n",
      "Rewritten: This phrase is to verify ChatGPT's spelling ability.\n"
     ]
    }
   ],
   "source": [
    "import time\n",
    "text = [ \n",
    "  \"The company are going well in their business.\",  # The company is.\n",
    "  \"This is a good sentence with no issues.\", # ok\n",
    "  \"Their goes my freedom. There going to bring they’re suitcases.\",  # Homonyms\n",
    "  \"Your going to need you’re wallet.\",  # Homonyms\n",
    "  \"This phrase is to varify chatGPT for speling abilitty\"  # spelling\n",
    "]\n",
    "for t in text:\n",
    "    prompt = f\"\"\"Proofread and correct the following text\n",
    "    and rewrite the corrected version. If you don't find\n",
    "    and errors, just say \"No errors found\". Don't use \n",
    "    any punctuation around the text:\n",
    "    ```{t}```\"\"\"\n",
    "    response = get_completion(prompt)\n",
    "    print(response)\n",
    "    time.sleep(10)"
   ]
  },
  {
   "cell_type": "code",
   "execution_count": 15,
   "id": "7543fe7d",
   "metadata": {
    "tags": []
   },
   "outputs": [
    {
     "name": "stdout",
     "output_type": "stream",
     "text": [
      "\"I am doing this for your own good. You know that, right? I have paid a lot of money for your education in an expensive school so that your English is better than mine. My hope is that you will get a good job and have a bright future.\"\n"
     ]
    }
   ],
   "source": [
    "text = f\"\"\"\n",
    "I am do this for your good. You know that, right? \\\n",
    "I have paid a lot of money for your education in an \\\n",
    "expansive school, so that your English is batter than \\\n",
    "me. Also, my hope is you get a good job bright future.\n",
    "\"\"\"\n",
    "prompt = f\"proofread and correct this review: ```{text}```\"\n",
    "response = get_completion(prompt)\n",
    "print(response)"
   ]
  },
  {
   "cell_type": "code",
   "execution_count": 16,
   "id": "11ac80a0",
   "metadata": {
    "tags": []
   },
   "outputs": [
    {
     "data": {
      "text/markdown": [
       "<span style=\"color:red;font-weight:700;text-decoration:line-through;\">I </span><span style=\"color:red;font-weight:700;\">\"I </span>am <span style=\"color:red;font-weight:700;text-decoration:line-through;\">do </span><span style=\"color:red;font-weight:700;\">doing </span>this for your <span style=\"color:red;font-weight:700;\">own </span>good. You know that, right? I have paid a lot of money for your education in an <span style=\"color:red;font-weight:700;text-decoration:line-through;\">expansive school, </span><span style=\"color:red;font-weight:700;\">expensive school </span>so that your English is <span style=\"color:red;font-weight:700;text-decoration:line-through;\">batter </span><span style=\"color:red;font-weight:700;\">better </span>than <span style=\"color:red;font-weight:700;text-decoration:line-through;\">me. Also, my </span><span style=\"color:red;font-weight:700;\">mine. My </span>hope is <span style=\"color:red;font-weight:700;\">that </span>you <span style=\"color:red;font-weight:700;\">will </span>get a good job <span style=\"color:red;font-weight:700;\">and have a </span>bright <span style=\"color:red;font-weight:700;text-decoration:line-through;\">future.</span><span style=\"color:red;font-weight:700;\">future.\"</span>"
      ],
      "text/plain": [
       "<IPython.core.display.Markdown object>"
      ]
     },
     "metadata": {},
     "output_type": "display_data"
    }
   ],
   "source": [
    "from redlines import Redlines\n",
    "\n",
    "diff = Redlines(text,response)\n",
    "display(Markdown(diff.output_markdown))"
   ]
  }
 ],
 "metadata": {
  "kernelspec": {
   "display_name": "Python 3 (ipykernel)",
   "language": "python",
   "name": "python3"
  },
  "language_info": {
   "codemirror_mode": {
    "name": "ipython",
    "version": 3
   },
   "file_extension": ".py",
   "mimetype": "text/x-python",
   "name": "python",
   "nbconvert_exporter": "python",
   "pygments_lexer": "ipython3",
   "version": "3.11.0"
  }
 },
 "nbformat": 4,
 "nbformat_minor": 5
}
